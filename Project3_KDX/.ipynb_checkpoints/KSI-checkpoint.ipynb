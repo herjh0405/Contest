{
 "cells": [
  {
   "cell_type": "markdown",
   "metadata": {},
   "source": [
    "# 데이터 처리 환경 구성"
   ]
  },
  {
   "cell_type": "code",
   "execution_count": 1,
   "metadata": {},
   "outputs": [],
   "source": [
    "import warnings\n",
    "warnings.filterwarnings(action='ignore')\n",
    "import pandas as pd\n",
    "import numpy as np\n",
    "import matplotlib.pyplot as plt\n",
    "import seaborn as sns\n",
    "import os, random, datetime, time\n",
    "import collections\n",
    "\n",
    "from sklearn.linear_model import LinearRegression\n",
    "from sklearn.preprocessing import MinMaxScaler\n",
    "\n",
    "from sklearn.cluster import KMeans\n",
    "from sklearn.cluster import DBSCAN\n",
    "\n",
    "from matplotlib import font_manager, rc\n",
    "from matplotlib import style\n",
    "style.use('ggplot')\n",
    "%matplotlib inline\n",
    "\n",
    "font_name = font_manager.FontProperties(fname=\"c:/Windows/Fonts/malgun.ttf\").get_name()\n",
    "rc('font', family=font_name)\n",
    "\n",
    "from IPython.display import set_matplotlib_formats\n",
    "set_matplotlib_formats(\"retina\")\n",
    "\n",
    "import matplotlib\n",
    "matplotlib.rcParams['axes.unicode_minus'] = False\n",
    "\n",
    "sns.set(font=font_name,\n",
    "        rc={\"axes.unicode_minus\":False})\n",
    "\n",
    "pd.set_option('display.max_rows', 220)\n",
    "pd.set_option('display.max_columns', 20)"
   ]
  },
  {
   "cell_type": "markdown",
   "metadata": {},
   "source": [
    "## 분석 함수 정의\n",
    "* 값의 차이가 많이 나기 때문에 정규화"
   ]
  },
  {
   "cell_type": "code",
   "execution_count": 2,
   "metadata": {},
   "outputs": [],
   "source": [
    "def score_normalize(lst):\n",
    "    normalized=[]\n",
    "    scaler = MinMaxScaler()\n",
    "    normalized=scaler.fit_transform(lst)\n",
    "    \n",
    "    return normalized"
   ]
  },
  {
   "cell_type": "code",
   "execution_count": 3,
   "metadata": {},
   "outputs": [],
   "source": [
    "# method / kmeans 더 효율적으로 쓰는 것 \n",
    "def elbow(X,n,seed=1192):\n",
    "    sse = []\n",
    "    for i in range(1,n+1):\n",
    "        print(\"\\r\",i,\"/\",n,end='') # r: rewrite, end: 줄 바뀜 없애기\n",
    "        km = KMeans(n_clusters=i,init='k-means++',random_state=seed)\n",
    "        km.fit(X)\n",
    "        sse.append(km.inertia_)\n",
    "    plt.figure(figsize=(20,10))\n",
    "    plt.plot(range(1,n+1),sse,marker='o')\n",
    "    plt.ylabel(\"SSE\")\n",
    "    plt.show()"
   ]
  },
  {
   "cell_type": "code",
   "execution_count": 10,
   "metadata": {},
   "outputs": [],
   "source": [
    "def K_means(data):\n",
    "    km = KMeans(n_clusters=3, n_jobs=-1, random_state=seed)\n",
    "    km.fit(data)\n",
    "    res= km.predict(data)\n",
    "    data[res==0], data[res==1], data[res==2] "
   ]
  },
  {
   "cell_type": "markdown",
   "metadata": {},
   "source": [
    "## 트랜드 분석이란\n",
    "* 트랜드 분석- 상향식, 하향식\n",
    "    * 상향식 : 기깔나게 경향을 찾아서, 그 경향에 맞는 애들을 빼고 남은 애들에서 또 찾음(그룹화, 비지도-군집화, 범주형)"
   ]
  },
  {
   "cell_type": "markdown",
   "metadata": {},
   "source": [
    "# 연령대, 성별 코로나와 가장 밀접한 관련이 있는 사업은?\n",
    "* 전체 사업의 그래프와 그 사업의 그래프의 MinMaxScaler를 하여 차이를 구해보자\n"
   ]
  },
  {
   "cell_type": "markdown",
   "metadata": {},
   "source": [
    "## 데이터 불러오기\n",
    "* 원본 데이터 저장"
   ]
  },
  {
   "cell_type": "code",
   "execution_count": 5,
   "metadata": {},
   "outputs": [],
   "source": [
    "path = './data'\n",
    "ori_Samsungcard=pd.read_csv(path+'/Samsungcard.csv', encoding='cp949')\n",
    "ori_Shinhancard=pd.read_excel(path+'/Shinhancard.xlsx')\n",
    "\n",
    "ori_Gin_price=pd.read_csv(path+'/GIN00009A.csv')\n",
    "ori_Gin_trade_vol=pd.read_csv(path+'/GIN00008A.csv')\n",
    "ori_Gin_loc=pd.read_json(path+'/center_GIN00010M.json')\n",
    "\n",
    "ori_Mbn=pd.read_excel(path+'./mk_news_201901_202006.xlsx')\n",
    "\n",
    "ori_M_corper=pd.read_csv(path+'/M_corper.csv')\n",
    "ori_card=pd.read_csv(path+'/Card.csv')"
   ]
  },
  {
   "cell_type": "code",
   "execution_count": 6,
   "metadata": {},
   "outputs": [],
   "source": [
    "ori_Shinhancard=ori_Shinhancard.drop(columns=['Unnamed: 5', 'Unnamed: 6', 'Unnamed: 7']).copy()"
   ]
  },
  {
   "cell_type": "code",
   "execution_count": null,
   "metadata": {},
   "outputs": [],
   "source": [
    "# m_path = path+'/Mcorporation/상품 카테고리 데이터_KDX 시각화 경진대회 Only'\n",
    "# m_list=os.listdir(m_path)\n",
    "\n",
    "# for i in range(1,5):\n",
    "#     display(pd.read_excel(m_path+'/'+m_list[i]))\n",
    "\n",
    "# ori_M_corper=pd.concat([pd.read_excel(m_path+'/'+i) for i in m_list[1:]])\n",
    "# ori_M_corper.to_csv('./data/M_corper.csv')"
   ]
  },
  {
   "cell_type": "code",
   "execution_count": null,
   "metadata": {},
   "outputs": [],
   "source": [
    "# Samsungcard.columns=['일별','업종','성별','연령대별','소비건수(천건)']\n",
    "# Samsungcard['소비건수(천건)']=round(Samsungcard['소비건수(천건)']/1000,1)\n",
    "# Samsungcard[['일별','성별','연령대별','업종','소비건수(천건)']]\n",
    "# Samsungcard['성별'] = Samsungcard['성별'].apply(lambda x: 'M' if x=='남성' else 'F')"
   ]
  },
  {
   "cell_type": "markdown",
   "metadata": {},
   "source": [
    "## 상관관계 저장\n",
    "* save_corr(spe_list)"
   ]
  },
  {
   "cell_type": "code",
   "execution_count": 7,
   "metadata": {},
   "outputs": [],
   "source": [
    "def save_corr(k):\n",
    "    for i in range(len(k)):\n",
    "        plt.figure(figsize=(20,10))\n",
    "        print(spe_list[i])\n",
    "        before_card_all=card_all[(card_all['일자']<2020010)&(card_all['일자']>=2019070)]\n",
    "        before_card_gp=card_gp[(card_gp['일자']<2020010)&(card_gp['일자']>=2019070)]\n",
    "        all_before=before_card_all[before_card_all['업종']==spe_list[i]]\n",
    "        all_before['건수_정규화']=score_normalize(np.array(before_card_all[before_card_all['업종']==spe_list[i]]['건수']).reshape(-1,1))\n",
    "        for j in age_list:\n",
    "            all_before[str(j)+'_정규화']=score_normalize(np.array(before_card_gp[(before_card_gp['연령']==j)&(before_card_gp['업종']==spe_list[i])]['건수']).reshape(-1,1))\n",
    "        set_all_before=all_before[['건수_정규화','20_정규화','30_정규화','40_정규화','50_정규화','60_정규화']]\n",
    "        mask = np.triu(np.ones_like(set_all_before.corr(), dtype=np.bool))\n",
    "\n",
    "        plt.subplot(1,2,1)\n",
    "        plt.title(spe_list[i]+' 코로나 전')\n",
    "        sns.heatmap(set_all_before.corr(), annot=True, cmap=\"Blues\", mask=mask)\n",
    "\n",
    "        after_card_all=card_all[(card_all['일자']>=2020010)]\n",
    "        after_card_gp=card_gp[(card_gp['일자']>=2020010)]\n",
    "        all_after=after_card_all[after_card_all['업종']==spe_list[i]]\n",
    "        all_after['건수_정규화']=score_normalize(np.array(after_card_all[after_card_all['업종']==spe_list[i]]['건수']).reshape(-1,1))\n",
    "        for k in age_list:\n",
    "            all_after[str(k)+'_정규화']=score_normalize(np.array(after_card_gp[(after_card_gp['연령']==k)&(after_card_gp['업종']==spe_list[i])]['건수']).reshape(-1,1))\n",
    "        select_all_after=all_after[['건수_정규화','20_정규화','30_정규화','40_정규화','50_정규화','60_정규화']]\n",
    "        mask = np.triu(np.ones_like(select_all_after.corr(), dtype=np.bool))\n",
    "\n",
    "        plt.subplot(1,2,2)\n",
    "        plt.title('코로나 후')\n",
    "        sns.heatmap(select_all_after.corr(), annot=True, cmap=\"Blues\", mask=mask)\n",
    "        plt.savefig('save'+str(i)+'.png')\n",
    "        plt.show()"
   ]
  },
  {
   "cell_type": "markdown",
   "metadata": {},
   "source": [
    "### 원본 데이터를 Copy. \n",
    "* 작업하다가 꼬이면 이 줄만 시행하면 되기에 **꼭** 해줘야하는 작업임."
   ]
  },
  {
   "cell_type": "code",
   "execution_count": 8,
   "metadata": {},
   "outputs": [],
   "source": [
    "Samsungcard = ori_Samsungcard.copy()\n",
    "Shinhancard = ori_Shinhancard.copy()\n",
    "\n",
    "Gin_price = ori_Gin_price.copy()\n",
    "Gin_trade_vol = ori_Gin_trade_vol.copy()\n",
    "Gin_loc = ori_Gin_loc.copy()\n",
    "\n",
    "Mbn_news = ori_Mbn.copy()\n",
    "M_corper = ori_M_corper.copy()\n",
    "\n",
    "card=ori_card.copy()"
   ]
  },
  {
   "cell_type": "code",
   "execution_count": 9,
   "metadata": {},
   "outputs": [],
   "source": [
    "# card data 쓰기 좋게 정리\n",
    "card['소비건수']=card['소비건수(삼성)']+card['소비건수(신한)']\n",
    "# card['소비일자']=pd.to_datetime(card['소비일자'].astype(str))\n",
    "card=card[['소비일자','소비업종','성별','연령대','소비건수']].copy()\n",
    "card.columns=['일자','업종','성별','연령','건수']"
   ]
  },
  {
   "cell_type": "markdown",
   "metadata": {},
   "source": [
    "### 월별 상관관계 분석"
   ]
  },
  {
   "cell_type": "code",
   "execution_count": null,
   "metadata": {},
   "outputs": [],
   "source": [
    "card['일자']=card['일자'].apply(lambda x: int(str(x)[:6]))\n",
    "card_gp=card.groupby(['일자','업종','성별','연령']).sum().reset_index().copy()\n",
    "\n",
    "card_gp['성별'] = card_gp['성별'].apply(lambda x: 'M' if x==1 else 'F').copy()\n",
    "# card_gp['연령'] = card_gp['연령'].apply(lambda x: str(x)+'대').copy()\n",
    "\n",
    "card_gp=card_gp.groupby(['일자','업종','연령']).sum().reset_index()\n",
    "\n",
    "spe_list=card_gp['업종'].unique().tolist()\n",
    "age_list=card_gp['연령'].unique().tolist()\n",
    "\n",
    "card_gp['건수']=np.round(card_gp['건수']).astype(int)\n",
    "card_all=card_gp.groupby(['일자','업종']).sum().reset_index()"
   ]
  },
  {
   "cell_type": "code",
   "execution_count": null,
   "metadata": {},
   "outputs": [],
   "source": [
    "def corr_per_month(spe):\n",
    "    all_select=card_all[card_all['업종']==spe]\n",
    "    all_select['건수_정규화']=score_normalize(np.array(card_all[card_all['업종']==spe]['건수']).reshape(-1,1))\n",
    "    for i in age_list:\n",
    "        all_select[str(i)+'_정규화']=score_normalize(np.array(card_gp[(card_gp['연령']==i)&(card_gp['업종']==spe)]['건수']).reshape(-1,1))\n",
    "    set_all_select=all_select[['건수_정규화','20_정규화','30_정규화','40_정규화','50_정규화','60_정규화']]\n",
    "    corr=set_all_select.corr()\n",
    "    mask = np.triu(np.ones_like(corr, dtype=np.bool))\n",
    "\n",
    "    sns.heatmap(corr, annot=True, cmap=\"Blues\", mask=mask)\n",
    "    plt.show()"
   ]
  },
  {
   "cell_type": "code",
   "execution_count": null,
   "metadata": {},
   "outputs": [],
   "source": [
    "def corr_per_month_before_corona(spe):\n",
    "    select_card_all=card_all[(card_all['일자']<=201912)]\n",
    "    select_card_gp=card_gp[(card_gp['일자']<=201912)]\n",
    "    all_select=select_card_all[select_card_all['업종']==spe]\n",
    "    all_select['건수_정규화']=score_normalize(np.array(select_card_all[select_card_all['업종']==spe]['건수']).reshape(-1,1))\n",
    "    for i in age_list:\n",
    "        all_select[str(i)+'_정규화']=score_normalize(np.array(select_card_gp[(select_card_gp['연령']==i)&(select_card_gp['업종']==spe)]['건수']).reshape(-1,1))\n",
    "    set_all_select=all_select[['건수_정규화','20_정규화','30_정규화','40_정규화','50_정규화','60_정규화']]\n",
    "    corr=set_all_select.corr()\n",
    "    mask = np.triu(np.ones_like(corr, dtype=np.bool))\n",
    "\n",
    "    sns.heatmap(corr, annot=True, cmap=\"Blues\", mask=mask)\n",
    "    plt.show()"
   ]
  },
  {
   "cell_type": "code",
   "execution_count": null,
   "metadata": {},
   "outputs": [],
   "source": [
    "def corr_per_month_after_corona(spe):\n",
    "    select_card_all=card_all[(card_all['일자']>201912)]\n",
    "    select_card_gp=card_gp[(card_gp['일자']>201912)]\n",
    "    all_select=select_card_all[select_card_all['업종']==spe]\n",
    "    all_select['건수_정규화']=score_normalize(np.array(select_card_all[select_card_all['업종']==spe]['건수']).reshape(-1,1))\n",
    "    for i in age_list:\n",
    "        all_select[str(i)+'_정규화']=score_normalize(np.array(select_card_gp[(select_card_gp['연령']==i)&(select_card_gp['업종']==spe)]['건수']).reshape(-1,1))\n",
    "    set_all_select=all_select[['건수_정규화','20_정규화','30_정규화','40_정규화','50_정규화','60_정규화']]\n",
    "    corr=set_all_select.corr()\n",
    "    mask = np.triu(np.ones_like(corr, dtype=np.bool))\n",
    "\n",
    "    sns.heatmap(corr, annot=True, cmap=\"Blues\", mask=mask)\n",
    "    plt.show()"
   ]
  },
  {
   "cell_type": "code",
   "execution_count": null,
   "metadata": {
    "scrolled": true
   },
   "outputs": [],
   "source": [
    "for i in spe_list:\n",
    "    print(i)\n",
    "    print('<전체>')\n",
    "    find_corr(i)\n",
    "    print('<코로나 전>')\n",
    "    corr_per_month_before_corona(i)\n",
    "    print('<코로나 후>')\n",
    "    corr_per_month_after_corona(i)"
   ]
  },
  {
   "cell_type": "markdown",
   "metadata": {},
   "source": [
    "### 주별 상관관계 분석"
   ]
  },
  {
   "cell_type": "code",
   "execution_count": null,
   "metadata": {},
   "outputs": [],
   "source": [
    "card['일자']=card['일자'].apply(lambda x: int(str(x)[:7]))\n",
    "card_gp=card.groupby(['일자','업종','성별','연령']).sum().reset_index().copy()\n",
    "\n",
    "card_gp['성별'] = card_gp['성별'].apply(lambda x: 'M' if x==1 else 'F').copy()\n",
    "# card_gp['연령'] = card_gp['연령'].apply(lambda x: str(x)+'대').copy()\n",
    "\n",
    "card_gp=card_gp.groupby(['일자','업종','연령']).sum().reset_index()\n",
    "\n",
    "spe_list=card_gp['업종'].unique().tolist()\n",
    "age_list=card_gp['연령'].unique().tolist()\n",
    "\n",
    "card_gp['건수']=np.round(card_gp['건수']).astype(int)\n",
    "card_all=card_gp.groupby(['일자','업종']).sum().reset_index()\n",
    "\n",
    "for i in range(len(card_all)):\n",
    "    if str(card_all['일자'][i])[-1]=='3':\n",
    "        card_all.drop(i, inplace=True)\n",
    "        \n",
    "for i in range(len(card_gp)):\n",
    "    if str(card_gp['일자'][i])[-1]=='3':\n",
    "        card_gp.drop(i, inplace=True)\n",
    "        \n",
    "card_all=card_all.reset_index()\n",
    "card_gp=card_gp.reset_index()"
   ]
  },
  {
   "cell_type": "code",
   "execution_count": null,
   "metadata": {},
   "outputs": [],
   "source": [
    "def corr_per_week(spe):\n",
    "    all_select=card_all[card_all['업종']=='가전/가구']\n",
    "    all_select['건수_정규화']=score_normalize(np.array(card_all[card_all['업종']=='가전/가구']['건수']).reshape(-1,1))\n",
    "    for i in age_list:\n",
    "        all_select[str(i)+'_정규화']=score_normalize(np.array(card_gp[(card_gp['연령']==i)&(card_gp['업종']=='가전/가구')]['건수']).reshape(-1,1))\n",
    "\n",
    "    set_all_select=all_select[['건수_정규화','20_정규화','30_정규화','40_정규화','50_정규화','60_정규화']]\n",
    "    corr=set_all_select.corr()\n",
    "    mask = np.triu(np.ones_like(corr, dtype=np.bool))\n",
    "\n",
    "    sns.heatmap(corr, annot=True, cmap=\"Blues\", mask=mask)\n",
    "    plt.show()"
   ]
  },
  {
   "cell_type": "code",
   "execution_count": null,
   "metadata": {},
   "outputs": [],
   "source": [
    "def corr_per_week_before_corona(spe):\n",
    "    select_card_all=card_all[(card_all['일자']<2020012)]\n",
    "    select_card_gp=card_gp[(card_gp['일자']<2020012)]\n",
    "    all_select=select_card_all[select_card_all['업종']==spe]\n",
    "    all_select['건수_정규화']=score_normalize(np.array(select_card_all[select_card_all['업종']==spe]['건수']).reshape(-1,1))\n",
    "    for i in age_list:\n",
    "        all_select[str(i)+'_정규화']=score_normalize(np.array(select_card_gp[(select_card_gp['연령']==i)&(select_card_gp['업종']==spe)]['건수']).reshape(-1,1))\n",
    "    set_all_select=all_select[['건수_정규화','20_정규화','30_정규화','40_정규화','50_정규화','60_정규화']]\n",
    "    corr=set_all_select.corr()\n",
    "    mask = np.triu(np.ones_like(corr, dtype=np.bool))\n",
    "\n",
    "    sns.heatmap(corr, annot=True, cmap=\"Blues\", mask=mask)\n",
    "    plt.show()"
   ]
  },
  {
   "cell_type": "code",
   "execution_count": null,
   "metadata": {},
   "outputs": [],
   "source": [
    "def corr_per_week_with_corona(spe):\n",
    "    select_card_all=card_all[(card_all['일자']>=2020012)]\n",
    "    select_card_gp=card_gp[(card_gp['일자']>=2020012)]\n",
    "    all_select=select_card_all[select_card_all['업종']==spe]\n",
    "    all_select['건수_정규화']=score_normalize(np.array(select_card_all[select_card_all['업종']==spe]['건수']).reshape(-1,1))\n",
    "    for i in age_list:\n",
    "        all_select[str(i)+'_정규화']=score_normalize(np.array(select_card_gp[(select_card_gp['연령']==i)&(select_card_gp['업종']==spe)]['건수']).reshape(-1,1))\n",
    "    set_all_select=all_select[['건수_정규화','20_정규화','30_정규화','40_정규화','50_정규화','60_정규화']]\n",
    "    corr=set_all_select.corr()\n",
    "    mask = np.triu(np.ones_like(corr, dtype=np.bool))\n",
    "\n",
    "    sns.heatmap(corr, annot=True, cmap=\"Blues\", mask=mask)\n",
    "    plt.show()"
   ]
  },
  {
   "cell_type": "code",
   "execution_count": null,
   "metadata": {
    "scrolled": true
   },
   "outputs": [],
   "source": [
    "for i in spe_list:\n",
    "    print(i)\n",
    "    print('<전체>')\n",
    "    corr_per_week(i)\n",
    "    print('<코로나 전>')\n",
    "    corr_per_week_before_corona(i)\n",
    "    print('<코로나 후>')\n",
    "    corr_per_week_with_corona(i)"
   ]
  },
  {
   "cell_type": "code",
   "execution_count": null,
   "metadata": {
    "scrolled": false
   },
   "outputs": [],
   "source": [
    "card_copy=card.copy()\n",
    "n=0\n",
    "for i in spe_list: \n",
    "    card_copy=card_copy[card_copy['업종']==i]\n",
    "    card_copy['일자']=pd.to_datetime(card_copy['일자'].astype(str))\n",
    "    card_copy['일자']= card_copy['일자'].apply(lambda x: str(x)[:7])\n",
    "\n",
    "    plt.figure(figsize=(20,10))\n",
    "    plt.title(i)\n",
    "    sns.lineplot(x='일자',y='건수',data=card_copy)\n",
    "    plt.savefig('spe'+str(n)+'.png')\n",
    "    plt.show()\n",
    "    card_copy=card.copy()\n",
    "    n+=1"
   ]
  },
  {
   "cell_type": "markdown",
   "metadata": {},
   "source": [
    "# K-means 사용"
   ]
  },
  {
   "cell_type": "code",
   "execution_count": null,
   "metadata": {},
   "outputs": [],
   "source": [
    "# 최적화 군집 갯수\n",
    "elbow(sh_card, 8, seed=seed)"
   ]
  },
  {
   "cell_type": "markdown",
   "metadata": {},
   "source": [
    "* 신한+삼성 데이터"
   ]
  },
  {
   "cell_type": "code",
   "execution_count": null,
   "metadata": {},
   "outputs": [],
   "source": [
    "for i in range(len(spe_list)):\n",
    "    card['업종_'+spe_list[i]]= card['업종'].apply(lambda x: 1 if x==spe_list[i] else 0 )\n",
    "    \n",
    "card=card.drop(columns=['업종'])\n",
    "card['일자']=card['일자'].apply(lambda x : pd.to_datetime(str(x)))\n",
    "card['일자']=card['일자'].astype(np.int64)\n",
    "\n",
    "km = KMeans(n_clusters=3, n_jobs=-1, random_state=seed)\n",
    "km.fit(card)\n",
    "res= km.predict(card)"
   ]
  },
  {
   "cell_type": "code",
   "execution_count": null,
   "metadata": {},
   "outputs": [],
   "source": [
    "card_cl_0=card[res==0].copy()\n",
    "card_cl_0['일자']=pd.to_datetime(card_cl_0['일자'])\n",
    "card_cl_0"
   ]
  },
  {
   "cell_type": "code",
   "execution_count": null,
   "metadata": {},
   "outputs": [],
   "source": [
    "card_cl_1=card[res==1].copy()\n",
    "card_cl_1['일자']=pd.to_datetime(card_cl_1['일자'])\n",
    "card_cl_1"
   ]
  },
  {
   "cell_type": "code",
   "execution_count": null,
   "metadata": {},
   "outputs": [],
   "source": [
    "card_cl_2=card[res==2].copy()\n",
    "card_cl_2['일자']=pd.to_datetime(card_cl_2['일자'])\n",
    "card_cl_2"
   ]
  },
  {
   "cell_type": "markdown",
   "metadata": {},
   "source": [
    "* 성별 제거 데이터"
   ]
  },
  {
   "cell_type": "code",
   "execution_count": null,
   "metadata": {},
   "outputs": [],
   "source": [
    "card2=card.groupby(['일자','업종','연령']).sum().reset_index()\n",
    "for i in range(len(spe_list)):\n",
    "    card2['업종_'+spe_list[i]]= card2['업종'].apply(lambda x: 1 if x==spe_list[i] else 0 )\n",
    "    \n",
    "card2=card2.drop(columns=['업종'])\n",
    "card2['일자']=card2['일자'].apply(lambda x : pd.to_datetime(str(x)))\n",
    "card2['일자']=card2['일자'].astype(np.int64)\n",
    "card2=card2.drop(columns=['성별'])\n",
    "\n",
    "km = KMeans(n_clusters=3, n_jobs=-1, random_state=seed)\n",
    "km.fit(card2)\n",
    "res= km.predict(card2)"
   ]
  },
  {
   "cell_type": "code",
   "execution_count": null,
   "metadata": {},
   "outputs": [],
   "source": [
    "km = KMeans(n_clusters=3, n_jobs=-1, random_state=seed)\n",
    "km.fit(card2)\n",
    "res= km.predict(card2)"
   ]
  },
  {
   "cell_type": "markdown",
   "metadata": {},
   "source": [
    "* 산업끼리 그룹화 데이터"
   ]
  },
  {
   "cell_type": "code",
   "execution_count": null,
   "metadata": {},
   "outputs": [],
   "source": [
    "card3=card.groupby(['일자','업종','성별']).sum().reset_index().drop(columns=['연령'])\n",
    "\n",
    "for i in range(len(spe_list)):\n",
    "    card3['업종_'+spe_list[i]]= card3['업종'].apply(lambda x: 1 if x==spe_list[i] else 0 )\n",
    "    \n",
    "card3=card3.drop(columns=['업종'])\n",
    "card3['일자']=card3['일자'].apply(lambda x : pd.to_datetime(str(x)))\n",
    "card3['일자']=card3['일자'].astype(np.int64)\n",
    "# card3=card3.drop(columns=['성별'])"
   ]
  },
  {
   "cell_type": "code",
   "execution_count": null,
   "metadata": {},
   "outputs": [],
   "source": [
    "km = KMeans(n_clusters=3, n_jobs=-1, random_state=seed)\n",
    "km.fit(card3)\n",
    "res= km.predict(card3)"
   ]
  },
  {
   "cell_type": "markdown",
   "metadata": {},
   "source": [
    "* DBSCAN"
   ]
  },
  {
   "cell_type": "code",
   "execution_count": null,
   "metadata": {},
   "outputs": [],
   "source": [
    "db= DBSCAN (eps=50, min_samples=5, n_jobs=-1)\n",
    "res_db= db.fit_predict(card)\n",
    "pd.Series(res_db).value_counts()\n",
    "card[res_db!=-1]"
   ]
  },
  {
   "cell_type": "markdown",
   "metadata": {},
   "source": [
    "## 신한카드로 세부 분석"
   ]
  },
  {
   "cell_type": "code",
   "execution_count": null,
   "metadata": {
    "scrolled": true
   },
   "outputs": [],
   "source": [
    "shinhan_temp=Shinhancard[(Shinhancard['연령대별']=='60대')|(Shinhancard['연령대별']=='70대')].groupby(['일별','성별','업종']).sum().reset_index()\n",
    "shinhan_temp['연령대별']='60대'\n",
    "shinhan_temp=shinhan_temp[['일별','성별','연령대별','업종','카드이용건수(천건)']]"
   ]
  },
  {
   "cell_type": "code",
   "execution_count": null,
   "metadata": {},
   "outputs": [],
   "source": [
    "ref_Shinhancard=pd.concat([Shinhancard[Shinhancard['연령대별']<='50대'],shinhan_temp])\n",
    "sh_card=ref_Shinhancard.copy()\n",
    "sh_list=sh_card['업종'].unique().tolist()"
   ]
  },
  {
   "cell_type": "markdown",
   "metadata": {},
   "source": [
    "### Kmeans \n",
    "* 위와 비슷"
   ]
  },
  {
   "cell_type": "code",
   "execution_count": null,
   "metadata": {
    "scrolled": true
   },
   "outputs": [],
   "source": [
    "sh_card['성별'] = sh_card['성별'].apply(lambda x: 1 if x=='M' else 0)\n",
    "sh_card['연령대별'] = sh_card['연령대별'].apply(lambda x: int(x[:2]))\n",
    "\n",
    "for i in range(len(sh_list)):\n",
    "    sh_card['업종_'+sh_list[i]]= sh_card['업종'].apply(lambda x: 1 if x==sh_list[i] else 0 )\n",
    "    \n",
    "sh_card=sh_card.drop(columns=['업종'])\n",
    "sh_card['일별']=pd.to_datetime(sh_card['일별'].astype(str))\n",
    "sh_card['일별']=sh_card['일별'].astype(np.int64)\n",
    "\n",
    "km = KMeans(n_clusters=3, n_jobs=-1, random_state=seed)\n",
    "km.fit(sh_card)\n",
    "res= km.predict(sh_card)"
   ]
  },
  {
   "cell_type": "markdown",
   "metadata": {},
   "source": [
    "### 상관계수 살펴보기"
   ]
  },
  {
   "cell_type": "markdown",
   "metadata": {},
   "source": [
    "#### 1"
   ]
  },
  {
   "cell_type": "code",
   "execution_count": null,
   "metadata": {
    "scrolled": true
   },
   "outputs": [],
   "source": [
    "sh_card.columns=['일자','성별','연령','업종','건수']\n",
    "sh_card=sh_card[['일자','업종','성별','연령','건수']]"
   ]
  },
  {
   "cell_type": "code",
   "execution_count": null,
   "metadata": {},
   "outputs": [],
   "source": [
    "sh_card['연령']=sh_card['연령'].apply(lambda x: x[:2])\n",
    "sh_card['일자']=sh_card['일자'].apply(lambda x: int(str(x)[:7]))\n",
    "sh_card_gp=sh_card.groupby(['일자','업종','성별','연령']).sum().reset_index().copy()\n",
    "\n",
    "# sh_card_gp['성별'] = sh_card_gp['성별'].apply(lambda x: 'M' if x==1 else 'F').copy()\n",
    "# sh_card_gp['연령'] = sh_card_gp['연령'].apply(lambda x: str(x)+'대').copy()\n",
    "\n",
    "sh_card_gp=sh_card_gp.groupby(['일자','업종','연령']).sum().reset_index()\n",
    "\n",
    "sh_card_gp['건수']=np.round(sh_card_gp['건수']).astype(int)\n",
    "sh_card_all=sh_card_gp.groupby(['일자','연령']).sum().reset_index()"
   ]
  },
  {
   "cell_type": "code",
   "execution_count": null,
   "metadata": {},
   "outputs": [],
   "source": [
    "for i in range(len(sh_card_all)):\n",
    "    if str(sh_card_all['일자'][i])[-1]=='3':\n",
    "        sh_card_all.drop(i, inplace=True)\n",
    "        \n",
    "for i in range(len(sh_card_gp)):\n",
    "    if str(sh_card_gp['일자'][i])[-1]=='3':\n",
    "        sh_card_gp.drop(i, inplace=True)\n",
    "        \n",
    "sh_card_all=sh_card_all.reset_index()\n",
    "sh_card_gp=sh_card_gp.reset_index()"
   ]
  },
  {
   "cell_type": "code",
   "execution_count": null,
   "metadata": {},
   "outputs": [],
   "source": [
    "def save_corr_sh(k):\n",
    "    for i in range(len(k)):\n",
    "        plt.figure(figsize=(20,10))\n",
    "        print(sh_list[i])\n",
    "        before_sh_card_all=sh_card_all[(sh_card_all['일자']<2020010)&(sh_card_all['일자']>=2019070)]\n",
    "        before_sh_card_gp=sh_card_gp[(sh_card_gp['일자']<2020010)&(sh_card_gp['일자']>=2019070)]\n",
    "        all_before=before_sh_card_all[before_sh_card_all['업종']==sh_list[i]]\n",
    "        all_before['건수_정규화']=score_normalize(np.array(before_sh_card_all[before_sh_card_all['업종']==sh_list[i]]['건수']).reshape(-1,1))\n",
    "        for j in age_list:\n",
    "            all_before[str(j)+'_정규화']=score_normalize(np.array(before_sh_card_gp[(before_sh_card_gp['연령']==j)&(before_sh_card_gp['업종']==sh_list[i])]['건수']).reshape(-1,1))\n",
    "        set_all_before=all_before[['건수_정규화','20_정규화','30_정규화','40_정규화','50_정규화','60_정규화']]\n",
    "        mask = np.triu(np.ones_like(set_all_before.corr(), dtype=np.bool))\n",
    "\n",
    "        plt.subplot(1,2,1)\n",
    "        plt.title(sh_list[i]+' 코로나 전')\n",
    "        sns.heatmap(set_all_before.corr(), annot=True, cmap=\"Blues\", mask=mask)\n",
    "\n",
    "        after_sh_card_all=sh_card_all[(sh_card_all['일자']>=2020010)]\n",
    "        after_sh_card_gp=sh_card_gp[(sh_card_gp['일자']>=2020010)]\n",
    "        all_after=after_sh_card_all[after_sh_card_all['업종']==sh_list[i]]\n",
    "        all_after['건수_정규화']=score_normalize(np.array(after_sh_card_all[after_sh_card_all['업종']==sh_list[i]]['건수']).reshape(-1,1))\n",
    "        for k in age_list:\n",
    "            all_after[str(k)+'_정규화']=score_normalize(np.array(after_sh_card_gp[(after_sh_card_gp['연령']==k)&(after_sh_card_gp['업종']==sh_list[i])]['건수']).reshape(-1,1))\n",
    "        select_all_after=all_after[['건수_정규화','20_정규화','30_정규화','40_정규화','50_정규화','60_정규화']]\n",
    "        mask = np.triu(np.ones_like(select_all_after.corr(), dtype=np.bool))\n",
    "\n",
    "        plt.subplot(1,2,2)\n",
    "        plt.title('코로나 후')\n",
    "        sns.heatmap(select_all_after.corr(), annot=True, cmap=\"Blues\", mask=mask)\n",
    "        plt.savefig('sh_save'+str(i)+'.png')\n",
    "        plt.show()"
   ]
  },
  {
   "cell_type": "markdown",
   "metadata": {},
   "source": [
    "#### 2"
   ]
  },
  {
   "cell_type": "code",
   "execution_count": null,
   "metadata": {},
   "outputs": [],
   "source": [
    "sh_card_all=sh_card_all.groupby(['일자']).sum().reset_index()\n",
    "sh_card_all=sh_card_all[(sh_card_all['일자']>=2019070)&(sh_card_all['일자']<=2020010)]\n",
    "sh_card_all['건수_정규화']=score_normalize(np.array(sh_card_all['건수']).reshape(-1,1))"
   ]
  },
  {
   "cell_type": "code",
   "execution_count": null,
   "metadata": {},
   "outputs": [],
   "source": [
    "sh_card=sh_card[(sh_card['일자']>=2019070)&(sh_card['일자']<=2020010)]\n",
    "sh_per_spe=sh_card.groupby(['일자','업종']).sum().reset_index()"
   ]
  },
  {
   "cell_type": "code",
   "execution_count": null,
   "metadata": {
    "scrolled": true
   },
   "outputs": [],
   "source": [
    "plt.figure(figsize=(40,20))\n",
    "for i in sh_list:\n",
    "    sh_card_all[i]=score_normalize(np.array(sh_per_spe[sh_per_spe['업종']==i]['건수']).reshape(-1,1))\n",
    "\n",
    "mask = np.triu(np.ones_like(sh_card_all.corr(), dtype=np.bool))\n",
    "sns.heatmap(sh_card_all.corr(), annot=True, cmap=\"Reds\", mask=mask)\n",
    "plt.show()"
   ]
  },
  {
   "cell_type": "markdown",
   "metadata": {},
   "source": [
    "# Online Data"
   ]
  },
  {
   "cell_type": "markdown",
   "metadata": {},
   "source": [
    "### **변수 자동 생성 대신 list or dict로**"
   ]
  },
  {
   "cell_type": "code",
   "execution_count": 11,
   "metadata": {},
   "outputs": [
    {
     "ename": "NameError",
     "evalue": "name 'spe_list' is not defined",
     "output_type": "error",
     "traceback": [
      "\u001b[1;31m---------------------------------------------------------------------------\u001b[0m",
      "\u001b[1;31mNameError\u001b[0m                                 Traceback (most recent call last)",
      "\u001b[1;32m<ipython-input-11-9e7bf2351b8a>\u001b[0m in \u001b[0;36m<module>\u001b[1;34m\u001b[0m\n\u001b[0;32m      1\u001b[0m \u001b[0msh_list\u001b[0m \u001b[1;33m=\u001b[0m \u001b[1;33m[\u001b[0m\u001b[1;33m]\u001b[0m\u001b[1;33m\u001b[0m\u001b[1;33m\u001b[0m\u001b[0m\n\u001b[1;32m----> 2\u001b[1;33m \u001b[1;32mfor\u001b[0m \u001b[0mi\u001b[0m \u001b[1;32min\u001b[0m \u001b[0mspe_list\u001b[0m \u001b[1;33m:\u001b[0m\u001b[1;33m\u001b[0m\u001b[1;33m\u001b[0m\u001b[0m\n\u001b[0m\u001b[0;32m      3\u001b[0m     \u001b[0msh_list\u001b[0m\u001b[1;33m.\u001b[0m\u001b[0mappend\u001b[0m\u001b[1;33m(\u001b[0m\u001b[0msh_card\u001b[0m\u001b[1;33m[\u001b[0m\u001b[0msh_card\u001b[0m\u001b[1;33m[\u001b[0m\u001b[1;34m'업종'\u001b[0m\u001b[1;33m]\u001b[0m \u001b[1;33m==\u001b[0m \u001b[0mi\u001b[0m\u001b[1;33m]\u001b[0m\u001b[1;33m)\u001b[0m\u001b[1;33m\u001b[0m\u001b[1;33m\u001b[0m\u001b[0m\n",
      "\u001b[1;31mNameError\u001b[0m: name 'spe_list' is not defined"
     ]
    }
   ],
   "source": [
    "sh_list = []\n",
    "for i in spe_list :\n",
    "    sh_list.append(sh_card[sh_card['업종'] == i])"
   ]
  },
  {
   "cell_type": "code",
   "execution_count": null,
   "metadata": {},
   "outputs": [],
   "source": [
    "sh_dic = {}\n",
    "for i in spe_list :\n",
    "    sh_dic[i] = sh_card[sh_card['업종'] == i]"
   ]
  },
  {
   "cell_type": "code",
   "execution_count": 12,
   "metadata": {},
   "outputs": [],
   "source": [
    "corp=pd.read_csv(path+'/G2_df.csv')"
   ]
  },
  {
   "cell_type": "code",
   "execution_count": 13,
   "metadata": {
    "scrolled": true
   },
   "outputs": [],
   "source": [
    "cate_list=corp['카테고리명'].unique().tolist()\n",
    "month_list=corp['구매월'].unique().tolist()"
   ]
  },
  {
   "cell_type": "code",
   "execution_count": 14,
   "metadata": {},
   "outputs": [],
   "source": [
    "import copy\n",
    "\n",
    "corp_list=[]\n",
    "for i in cate_list:\n",
    "    temp_list = []\n",
    "    temp_df = corp[corp['카테고리명']==i]\n",
    "    for j in month_list : temp_list.append(temp_df[temp_df['구매월'] == j])\n",
    "    corp_list.append(copy.deepcopy(temp_list))"
   ]
  },
  {
   "cell_type": "code",
   "execution_count": 15,
   "metadata": {},
   "outputs": [],
   "source": [
    "for i in range(len(cate_list)):\n",
    "    for j in range(len(month_list)):\n",
    "        corp_list[i][j]=corp_list[i][j].reset_index()\n",
    "        corp_list[i][j]['비율']=corp_list[i][j]['구매수'].apply(lambda x: x/corp_list[i][j]['구매수'][1:].sum())\n",
    "        corp_list[i][j]['비율']=corp_list[i][j]['비율'].apply(lambda x: x*corp_list[i][j]['구매수'][0])\n",
    "        corp_list[i][j]['구매수']+=corp_list[i][j]['비율']\n",
    "#         corp_list[i][j]=corp_list[i][j].drop([corp_list[i][j].columns[0], corp_list[i][j].columns[-1]])\n",
    "new_corp = pd.concat([corp_list[i][j] for i in range(len(cate_list)) for j in range(len(month_list))]).copy()\n"
   ]
  },
  {
   "cell_type": "code",
   "execution_count": 16,
   "metadata": {
    "scrolled": true
   },
   "outputs": [],
   "source": [
    "cop=new_corp[['구매월','카테고리명','고객나이','구매수']].copy()\n",
    "cop=cop[cop['고객나이']!=0]\n",
    "cop['구매수']=round(cop['구매수']).astype(int)"
   ]
  },
  {
   "cell_type": "code",
   "execution_count": 17,
   "metadata": {},
   "outputs": [],
   "source": [
    "cop=cop.reset_index()"
   ]
  },
  {
   "cell_type": "code",
   "execution_count": null,
   "metadata": {},
   "outputs": [],
   "source": [
    "# elbow(cop, 8 ,seed=seed)"
   ]
  },
  {
   "cell_type": "code",
   "execution_count": null,
   "metadata": {
    "scrolled": true
   },
   "outputs": [],
   "source": [
    "cop['구매월']=pd.to_datetime(cop['구매월'].astype(str).apply(lambda x : x + '01')).map(dt.datetime.toordinal)\n",
    "\n",
    "for i in range(len(cate_list)):\n",
    "    cop['카테고리_'+cate_list[i]]= cop['카테고리명'].apply(lambda x: 1 if x==cate_list[i] else 0 )\n",
    "    \n",
    "cop=cop.drop(columns=['index','카테고리명'])\n",
    "km = KMeans(n_clusters=3, n_jobs=-1, random_state=seed)\n",
    "km.fit(cop)\n",
    "res= km.predict(cop)\n",
    "\n",
    "# cop['구매월']=cop['구매월'].map(dt.date.fromordinal)"
   ]
  },
  {
   "cell_type": "code",
   "execution_count": 18,
   "metadata": {
    "scrolled": true
   },
   "outputs": [],
   "source": [
    "cop_20=cop[(cop['고객나이']==10)|(cop['고객나이']==20)].groupby(['구매월','카테고리명']).sum().reset_index()\n",
    "cop=pd.concat([cop_20, cop[(cop['고객나이']>20)]])\n",
    "cop=cop.drop(columns=['index'])"
   ]
  },
  {
   "cell_type": "code",
   "execution_count": 19,
   "metadata": {
    "scrolled": false
   },
   "outputs": [
    {
     "data": {
      "text/html": [
       "<div>\n",
       "<style scoped>\n",
       "    .dataframe tbody tr th:only-of-type {\n",
       "        vertical-align: middle;\n",
       "    }\n",
       "\n",
       "    .dataframe tbody tr th {\n",
       "        vertical-align: top;\n",
       "    }\n",
       "\n",
       "    .dataframe thead th {\n",
       "        text-align: right;\n",
       "    }\n",
       "</style>\n",
       "<table border=\"1\" class=\"dataframe\">\n",
       "  <thead>\n",
       "    <tr style=\"text-align: right;\">\n",
       "      <th></th>\n",
       "      <th>구매월</th>\n",
       "      <th>카테고리명</th>\n",
       "      <th>고객나이</th>\n",
       "      <th>구매수</th>\n",
       "    </tr>\n",
       "  </thead>\n",
       "  <tbody>\n",
       "    <tr>\n",
       "      <th>0</th>\n",
       "      <td>201901</td>\n",
       "      <td>PC/사무기기</td>\n",
       "      <td>30</td>\n",
       "      <td>85410</td>\n",
       "    </tr>\n",
       "    <tr>\n",
       "      <th>1</th>\n",
       "      <td>201901</td>\n",
       "      <td>TV/홈시어터</td>\n",
       "      <td>30</td>\n",
       "      <td>5885</td>\n",
       "    </tr>\n",
       "    <tr>\n",
       "      <th>2</th>\n",
       "      <td>201901</td>\n",
       "      <td>가공식품</td>\n",
       "      <td>30</td>\n",
       "      <td>805176</td>\n",
       "    </tr>\n",
       "    <tr>\n",
       "      <th>3</th>\n",
       "      <td>201901</td>\n",
       "      <td>가방/지갑/잡화</td>\n",
       "      <td>30</td>\n",
       "      <td>201253</td>\n",
       "    </tr>\n",
       "    <tr>\n",
       "      <th>4</th>\n",
       "      <td>201901</td>\n",
       "      <td>건강 관련용품</td>\n",
       "      <td>30</td>\n",
       "      <td>41134</td>\n",
       "    </tr>\n",
       "    <tr>\n",
       "      <th>...</th>\n",
       "      <td>...</td>\n",
       "      <td>...</td>\n",
       "      <td>...</td>\n",
       "      <td>...</td>\n",
       "    </tr>\n",
       "    <tr>\n",
       "      <th>6905</th>\n",
       "      <td>202005</td>\n",
       "      <td>휴대폰/악세서리</td>\n",
       "      <td>60</td>\n",
       "      <td>10344</td>\n",
       "    </tr>\n",
       "    <tr>\n",
       "      <th>6908</th>\n",
       "      <td>202006</td>\n",
       "      <td>휴대폰/악세서리</td>\n",
       "      <td>30</td>\n",
       "      <td>134813</td>\n",
       "    </tr>\n",
       "    <tr>\n",
       "      <th>6909</th>\n",
       "      <td>202006</td>\n",
       "      <td>휴대폰/악세서리</td>\n",
       "      <td>40</td>\n",
       "      <td>96430</td>\n",
       "    </tr>\n",
       "    <tr>\n",
       "      <th>6910</th>\n",
       "      <td>202006</td>\n",
       "      <td>휴대폰/악세서리</td>\n",
       "      <td>50</td>\n",
       "      <td>30821</td>\n",
       "    </tr>\n",
       "    <tr>\n",
       "      <th>6911</th>\n",
       "      <td>202006</td>\n",
       "      <td>휴대폰/악세서리</td>\n",
       "      <td>60</td>\n",
       "      <td>10109</td>\n",
       "    </tr>\n",
       "  </tbody>\n",
       "</table>\n",
       "<p>5760 rows × 4 columns</p>\n",
       "</div>"
      ],
      "text/plain": [
       "         구매월     카테고리명  고객나이     구매수\n",
       "0     201901   PC/사무기기    30   85410\n",
       "1     201901   TV/홈시어터    30    5885\n",
       "2     201901      가공식품    30  805176\n",
       "3     201901  가방/지갑/잡화    30  201253\n",
       "4     201901   건강 관련용품    30   41134\n",
       "...      ...       ...   ...     ...\n",
       "6905  202005  휴대폰/악세서리    60   10344\n",
       "6908  202006  휴대폰/악세서리    30  134813\n",
       "6909  202006  휴대폰/악세서리    40   96430\n",
       "6910  202006  휴대폰/악세서리    50   30821\n",
       "6911  202006  휴대폰/악세서리    60   10109\n",
       "\n",
       "[5760 rows x 4 columns]"
      ]
     },
     "execution_count": 19,
     "metadata": {},
     "output_type": "execute_result"
    }
   ],
   "source": [
    "cop"
   ]
  },
  {
   "cell_type": "code",
   "execution_count": null,
   "metadata": {},
   "outputs": [],
   "source": []
  },
  {
   "cell_type": "code",
   "execution_count": null,
   "metadata": {},
   "outputs": [],
   "source": []
  },
  {
   "cell_type": "code",
   "execution_count": null,
   "metadata": {},
   "outputs": [],
   "source": []
  },
  {
   "cell_type": "code",
   "execution_count": null,
   "metadata": {},
   "outputs": [],
   "source": []
  },
  {
   "cell_type": "code",
   "execution_count": null,
   "metadata": {},
   "outputs": [],
   "source": []
  },
  {
   "cell_type": "code",
   "execution_count": null,
   "metadata": {},
   "outputs": [],
   "source": []
  },
  {
   "cell_type": "code",
   "execution_count": null,
   "metadata": {},
   "outputs": [],
   "source": []
  },
  {
   "cell_type": "code",
   "execution_count": null,
   "metadata": {},
   "outputs": [],
   "source": []
  },
  {
   "cell_type": "markdown",
   "metadata": {},
   "source": [
    "# 수치형-수치형 사이의 경향\n",
    "* scatter_plot\n",
    "* heatmap"
   ]
  },
  {
   "cell_type": "code",
   "execution_count": null,
   "metadata": {},
   "outputs": [],
   "source": [
    "M_corper"
   ]
  },
  {
   "cell_type": "code",
   "execution_count": null,
   "metadata": {},
   "outputs": [],
   "source": [
    "M_corper[M_corper['고객성별']!='없음'].sample(1000)"
   ]
  },
  {
   "cell_type": "code",
   "execution_count": null,
   "metadata": {},
   "outputs": [],
   "source": [
    "seed=607"
   ]
  },
  {
   "cell_type": "code",
   "execution_count": null,
   "metadata": {},
   "outputs": [],
   "source": [
    "ex1 = M_corper[M_corper['고객성별']!='없음'].sample(1000,random_state=seed).copy()"
   ]
  },
  {
   "cell_type": "code",
   "execution_count": null,
   "metadata": {},
   "outputs": [],
   "source": [
    "ex1"
   ]
  },
  {
   "cell_type": "code",
   "execution_count": null,
   "metadata": {},
   "outputs": [],
   "source": [
    "x = '구매수'\n",
    "y = '구매금액'\n",
    "\n",
    "plt.figure(figsize=(20,10))\n",
    "sns.scatterplot(x=x,y=y,data=ex1,\n",
    "                hue='고객성별',color='r', style='고객성별', \n",
    "                marker='x', s=200)\n",
    "plt.xlabel(x,fontsize=30)\n",
    "plt.ylabel(y,fontsize=30)\n",
    "plt.legend(prop={'size': 30})\n",
    "plt.title('Scatter plot',fontsize=30)\n",
    "plt.grid(False)\n",
    "# plt.savefig('test.jpg')\n",
    "plt.show()"
   ]
  },
  {
   "cell_type": "code",
   "execution_count": null,
   "metadata": {
    "scrolled": true
   },
   "outputs": [],
   "source": [
    "sns.lmplot(x=x,y=y,data=ex1,\n",
    "           hue='고객성별', palette=dict(F='g',M='m'),height=10)\n",
    "plt.show() # palette 색\n",
    "# 범위가 크면 클수록 쓰레기\n",
    "# 선은 linear_regression 회귀선 "
   ]
  },
  {
   "cell_type": "code",
   "execution_count": null,
   "metadata": {},
   "outputs": [],
   "source": [
    "plt.figure(figsize=(20,10))\n",
    "\n",
    "plt.subplot(2,3,1)\n",
    "sns.scatterplot(x=x,y=y,data=ex1,color='r')\n",
    "\n",
    "plt.subplot(2,3,2)\n",
    "sns.scatterplot(x=x,y=y,data=ex1,color='b')\n",
    "\n",
    "plt.subplot(2,3,3)\n",
    "sns.scatterplot(x=x,y=y,data=ex1,color='g')\n",
    "\n",
    "plt.subplot(2,3,4)\n",
    "sns.scatterplot(x=x,y=y,data=ex1,color='y')\n",
    "\n",
    "plt.subplot(2,3,5)\n",
    "sns.scatterplot(x=x,y=y,data=ex1,color='k')\n",
    "\n",
    "plt.subplot(2,3,6)\n",
    "sns.scatterplot(x=x,y=y,data=ex1,color='w')\n",
    "\n",
    "# plt.savefig('test.jpg')\n",
    "plt.show()"
   ]
  },
  {
   "cell_type": "markdown",
   "metadata": {},
   "source": [
    "* log로 줄여줌, 선형관계가 보임"
   ]
  },
  {
   "cell_type": "code",
   "execution_count": null,
   "metadata": {},
   "outputs": [],
   "source": [
    "plt.figure(figsize=(20,10))\n",
    "sns.scatterplot(x=x,y=y,data=ex1,color='r')\n",
    "plt.xscale('log')\n",
    "plt.yscale('log')\n",
    "plt.show()"
   ]
  },
  {
   "cell_type": "code",
   "execution_count": null,
   "metadata": {},
   "outputs": [],
   "source": [
    "ex2=M_corper.copy()"
   ]
  },
  {
   "cell_type": "code",
   "execution_count": null,
   "metadata": {},
   "outputs": [],
   "source": [
    "ex2.corr() # 0.7~1.0 엄청 강한 상관 관계, 0.5~0.7, 0.5밑은 의미가 좀 없음"
   ]
  },
  {
   "cell_type": "code",
   "execution_count": null,
   "metadata": {},
   "outputs": [],
   "source": [
    "plt.figure(figsize=(10,10))\n",
    "sns.heatmap(ex2.corr())\n",
    "plt.show()"
   ]
  },
  {
   "cell_type": "markdown",
   "metadata": {},
   "source": [
    "# 범주형~수치형\n",
    "* box_plot\n",
    "* bar_plot"
   ]
  },
  {
   "cell_type": "code",
   "execution_count": null,
   "metadata": {},
   "outputs": [],
   "source": [
    "ex3=M_corper.copy()"
   ]
  },
  {
   "cell_type": "code",
   "execution_count": null,
   "metadata": {},
   "outputs": [],
   "source": [
    "ex3"
   ]
  },
  {
   "cell_type": "code",
   "execution_count": null,
   "metadata": {},
   "outputs": [],
   "source": [
    "plt.figure(figsize=(20,10))\n",
    "sns.boxplot(x=\"OS유형\", y=\"구매금액\", data=ex3)\n",
    "plt.show()\n",
    "# 상자에서 맨 밑에 상자가 25% 상자 맨 위가 75% 중간이 50% 상자rqr rqr-평균*1.5까지 표현해주는거\n",
    "# rqr이 너무 작으면 데이터분석이 병신이거나 균일분포인거나 "
   ]
  },
  {
   "cell_type": "code",
   "execution_count": null,
   "metadata": {},
   "outputs": [],
   "source": [
    "ex3.describe()\n",
    "# 25% 1분위수 50% 제2분위수 75% 제3분위수"
   ]
  },
  {
   "cell_type": "code",
   "execution_count": null,
   "metadata": {},
   "outputs": [],
   "source": [
    "ex3 = ex3[(ex3['구매금액']>0)&(ex3['구매금액']<1000000)].copy()"
   ]
  },
  {
   "cell_type": "code",
   "execution_count": null,
   "metadata": {},
   "outputs": [],
   "source": [
    "plt.figure(figsize=(20,10))\n",
    "sns.boxplot(x=\"OS유형\", y=\"구매금액\", data=ex3)\n",
    "plt.show()"
   ]
  },
  {
   "cell_type": "markdown",
   "metadata": {},
   "source": [
    "# Bar Plot"
   ]
  },
  {
   "cell_type": "code",
   "execution_count": null,
   "metadata": {},
   "outputs": [],
   "source": [
    "plt.figure(figsize=(20,10))\n",
    "sns.barplot(x=\"OS유형\", y=\"구매금액\", data=ex3)\n",
    "# 구매금액의 평균\n",
    "plt.show()"
   ]
  },
  {
   "cell_type": "code",
   "execution_count": null,
   "metadata": {},
   "outputs": [],
   "source": [
    "plt.figure(figsize=(20,10))\n",
    "sns.barplot(x=\"OS유형\", y=\"구매금액\", data=ex3, hue='고객성별')\n",
    "# 구매금액의 평균\n",
    "plt.show()"
   ]
  },
  {
   "cell_type": "markdown",
   "metadata": {},
   "source": [
    "# 변수의 고유 특성\n",
    "* 히스토그램"
   ]
  },
  {
   "cell_type": "code",
   "execution_count": null,
   "metadata": {},
   "outputs": [],
   "source": [
    "ex4=M_corper.copy()"
   ]
  },
  {
   "cell_type": "code",
   "execution_count": null,
   "metadata": {},
   "outputs": [],
   "source": [
    "plt.figure(figsize=(20,10))\n",
    "\n",
    "plt.subplot(2,1,1)\n",
    "sns.distplot(ex4['구매수'][ex4['고객성별']=='F'],bins=np.arange(100,1000,100),kde=False,color='r')\n",
    "# kde 선 그리기, rug 밀도\n",
    "\n",
    "plt.subplot(2,1,2)\n",
    "sns.distplot(ex4['구매수'][ex4['고객성별']=='M'],bins=np.arange(1000,30000,1000),kde=True,color='b',rug=True)\n",
    "\n",
    "plt.show()"
   ]
  },
  {
   "cell_type": "markdown",
   "metadata": {},
   "source": [
    "# Line Plot(Time Series)"
   ]
  },
  {
   "cell_type": "code",
   "execution_count": null,
   "metadata": {},
   "outputs": [],
   "source": [
    "ex5=M_corper.copy()"
   ]
  },
  {
   "cell_type": "code",
   "execution_count": null,
   "metadata": {},
   "outputs": [],
   "source": [
    "ex5=ex5[(ex5['고객나이']>10)&(ex5['고객나이']<80)].copy()"
   ]
  },
  {
   "cell_type": "markdown",
   "metadata": {},
   "source": [
    "* max, min, mean, count"
   ]
  },
  {
   "cell_type": "code",
   "execution_count": null,
   "metadata": {
    "scrolled": true
   },
   "outputs": [],
   "source": [
    "ex5=ex5.groupby(['고객나이','구매날짜']).sum().reset_index().copy()"
   ]
  },
  {
   "cell_type": "code",
   "execution_count": null,
   "metadata": {},
   "outputs": [],
   "source": [
    "# astype type 바꿔줌\n",
    "# datetime은 int는 못 바꿔줌, astype만 바꿔줄 수 있다\n",
    "ex5['구매날짜']=pd.to_datetime(ex5['구매날짜'].astype(str))"
   ]
  },
  {
   "cell_type": "code",
   "execution_count": null,
   "metadata": {},
   "outputs": [],
   "source": [
    "plt.figure(figsize=(20,10))\n",
    "sns.lineplot(x='구매날짜',y='구매금액',hue='고객나이',data=ex5)\n",
    "plt.show()"
   ]
  },
  {
   "cell_type": "markdown",
   "metadata": {},
   "source": [
    "# 데이터 특성"
   ]
  },
  {
   "cell_type": "code",
   "execution_count": null,
   "metadata": {},
   "outputs": [],
   "source": [
    "Samsungcard"
   ]
  },
  {
   "cell_type": "code",
   "execution_count": null,
   "metadata": {},
   "outputs": [],
   "source": [
    "Samsungcard['연령대'].apply(lambda x: int(x[:2]))"
   ]
  },
  {
   "cell_type": "code",
   "execution_count": null,
   "metadata": {
    "scrolled": true
   },
   "outputs": [],
   "source": [
    "Shinhancard"
   ]
  },
  {
   "cell_type": "code",
   "execution_count": null,
   "metadata": {},
   "outputs": [],
   "source": [
    "Shinhancard['연령대별'].apply(lambda x: int(x[:2]))"
   ]
  },
  {
   "cell_type": "markdown",
   "metadata": {},
   "source": [
    "# 삼성+신한 해주기"
   ]
  },
  {
   "cell_type": "code",
   "execution_count": null,
   "metadata": {},
   "outputs": [],
   "source": [
    "Samsungcard['성별']=Samsungcard['성별'].apply(lambda x:1 if x=='남성' else 0)"
   ]
  },
  {
   "cell_type": "code",
   "execution_count": null,
   "metadata": {},
   "outputs": [],
   "source": [
    "Samsungcard['성별']=Samsungcard['성별'].apply(lambda x:1 if x=='F' else 0)"
   ]
  },
  {
   "cell_type": "code",
   "execution_count": null,
   "metadata": {},
   "outputs": [],
   "source": [
    "Gin_price=ori_Gin_price.copy()"
   ]
  },
  {
   "cell_type": "code",
   "execution_count": null,
   "metadata": {},
   "outputs": [],
   "source": [
    "Gin_price['ym']=Gin_price['std_date'].apply(lambda x: int(str(x)[:7].replace('-',''))).copy()"
   ]
  },
  {
   "cell_type": "code",
   "execution_count": null,
   "metadata": {
    "scrolled": true
   },
   "outputs": [],
   "source": [
    "Gin_price['ym']"
   ]
  },
  {
   "cell_type": "code",
   "execution_count": null,
   "metadata": {},
   "outputs": [],
   "source": [
    "Gin=Gin_price.groupby(['lgdng_cd','ym']).mean().reset_index().copy()"
   ]
  },
  {
   "cell_type": "code",
   "execution_count": null,
   "metadata": {},
   "outputs": [],
   "source": [
    "Gin.head()"
   ]
  },
  {
   "cell_type": "code",
   "execution_count": null,
   "metadata": {
    "scrolled": true
   },
   "outputs": [],
   "source": [
    "Gin_trade_vol"
   ]
  },
  {
   "cell_type": "code",
   "execution_count": null,
   "metadata": {},
   "outputs": [],
   "source": [
    "Gin=pd.merge(Gin, Gin_trade_vol, how='left', on=['lgdng_cd','ym']).copy()"
   ]
  },
  {
   "cell_type": "code",
   "execution_count": null,
   "metadata": {},
   "outputs": [],
   "source": [
    "Gin"
   ]
  },
  {
   "cell_type": "markdown",
   "metadata": {},
   "source": [
    "* Gin_loc 합쳐서 봐라"
   ]
  },
  {
   "cell_type": "code",
   "execution_count": null,
   "metadata": {},
   "outputs": [],
   "source": [
    "Mbn_news"
   ]
  },
  {
   "cell_type": "code",
   "execution_count": null,
   "metadata": {},
   "outputs": [],
   "source": [
    "kw = Mbn_news['keywords'][Mbn_news['keywords'].fillna('nan')!='nan'].tolist()"
   ]
  },
  {
   "cell_type": "code",
   "execution_count": null,
   "metadata": {},
   "outputs": [],
   "source": [
    "vc = pd.Series([j for i in kw for j in i.split(',')]).value_counts()"
   ]
  },
  {
   "cell_type": "code",
   "execution_count": null,
   "metadata": {},
   "outputs": [],
   "source": [
    "vc"
   ]
  },
  {
   "cell_type": "markdown",
   "metadata": {},
   "source": [
    "# word2vec"
   ]
  },
  {
   "cell_type": "code",
   "execution_count": null,
   "metadata": {},
   "outputs": [],
   "source": [
    "M_corper"
   ]
  },
  {
   "cell_type": "code",
   "execution_count": null,
   "metadata": {},
   "outputs": [],
   "source": [
    "test = M_corper.copy()"
   ]
  },
  {
   "cell_type": "code",
   "execution_count": null,
   "metadata": {},
   "outputs": [],
   "source": [
    "len(test['카테고리명'].unique())"
   ]
  },
  {
   "cell_type": "code",
   "execution_count": null,
   "metadata": {},
   "outputs": [],
   "source": [
    "test['카테고리명'].unique()"
   ]
  },
  {
   "cell_type": "code",
   "execution_count": null,
   "metadata": {},
   "outputs": [],
   "source": [
    "a='가공식품'"
   ]
  },
  {
   "cell_type": "code",
   "execution_count": null,
   "metadata": {},
   "outputs": [],
   "source": [
    "cate_list=test['카테고리명'].unique().tolist()"
   ]
  },
  {
   "cell_type": "code",
   "execution_count": null,
   "metadata": {},
   "outputs": [],
   "source": [
    "cate_list.index(a)"
   ]
  },
  {
   "cell_type": "code",
   "execution_count": null,
   "metadata": {},
   "outputs": [],
   "source": [
    "test['카테고리명']=test['카테고리명'].apply(lambda x: cate_list.index(x))"
   ]
  },
  {
   "cell_type": "code",
   "execution_count": null,
   "metadata": {},
   "outputs": [],
   "source": [
    "test"
   ]
  },
  {
   "cell_type": "markdown",
   "metadata": {},
   "source": [
    "* 이렇게 0-63이 맞는가?\n",
    "* K-means하면 대소관계를 줘도 괜찮음"
   ]
  },
  {
   "cell_type": "code",
   "execution_count": null,
   "metadata": {},
   "outputs": [],
   "source": [
    "test['고객성별M']=test['고객성별'].apply(lambda x: 1 if x=='M' else 0)\n",
    "test['고객성별F']=test['고객성별'].apply(lambda x: 1 if x=='F' else 0)"
   ]
  },
  {
   "cell_type": "code",
   "execution_count": null,
   "metadata": {},
   "outputs": [],
   "source": [
    "test"
   ]
  },
  {
   "cell_type": "code",
   "execution_count": null,
   "metadata": {},
   "outputs": [],
   "source": [
    "OS_list=test['OS유형'].unique().tolist()"
   ]
  },
  {
   "cell_type": "code",
   "execution_count": null,
   "metadata": {},
   "outputs": [],
   "source": [
    "OS_list"
   ]
  },
  {
   "cell_type": "code",
   "execution_count": null,
   "metadata": {},
   "outputs": [],
   "source": [
    "for i in range(len(OS_list)-1):\n",
    "    test['OS유형_'+OS_list[i]]= test['OS유형'].apply(lambda x: 1 if x==OS_list[i] else 0 )"
   ]
  },
  {
   "cell_type": "code",
   "execution_count": null,
   "metadata": {},
   "outputs": [],
   "source": [
    "test"
   ]
  },
  {
   "cell_type": "code",
   "execution_count": null,
   "metadata": {},
   "outputs": [],
   "source": [
    "test['고객나이'].unique()"
   ]
  },
  {
   "cell_type": "code",
   "execution_count": null,
   "metadata": {},
   "outputs": [],
   "source": [
    "test=test.drop(columns=['구매날짜','고객성별','OS유형']).copy()"
   ]
  },
  {
   "cell_type": "code",
   "execution_count": null,
   "metadata": {},
   "outputs": [],
   "source": [
    "test"
   ]
  },
  {
   "cell_type": "code",
   "execution_count": null,
   "metadata": {},
   "outputs": [],
   "source": [
    "# 군집수, CPU갯수(무조건 -1주셈), random_state=seed주면 됨\n",
    "km = KMeans(n_clusters=3, n_jobs=-1, random_state=seed)\n"
   ]
  },
  {
   "cell_type": "code",
   "execution_count": null,
   "metadata": {},
   "outputs": [],
   "source": [
    "km.fit(test)"
   ]
  },
  {
   "cell_type": "code",
   "execution_count": null,
   "metadata": {},
   "outputs": [],
   "source": [
    "res= km.predict(test)"
   ]
  },
  {
   "cell_type": "code",
   "execution_count": null,
   "metadata": {},
   "outputs": [],
   "source": [
    "test[res==1]"
   ]
  },
  {
   "cell_type": "code",
   "execution_count": null,
   "metadata": {},
   "outputs": [],
   "source": [
    "test"
   ]
  },
  {
   "cell_type": "code",
   "execution_count": null,
   "metadata": {},
   "outputs": [],
   "source": [
    "test2=test[test['고객나이']==20]"
   ]
  },
  {
   "cell_type": "code",
   "execution_count": null,
   "metadata": {},
   "outputs": [],
   "source": [
    "test2"
   ]
  },
  {
   "cell_type": "code",
   "execution_count": null,
   "metadata": {},
   "outputs": [],
   "source": [
    "km2=KMeans(n_clusters=4, n_jobs=-1, random_state=seed)"
   ]
  },
  {
   "cell_type": "code",
   "execution_count": null,
   "metadata": {},
   "outputs": [],
   "source": [
    "km2.fit(test2)"
   ]
  },
  {
   "cell_type": "code",
   "execution_count": null,
   "metadata": {},
   "outputs": [],
   "source": [
    "res2=km2.predict(test2)"
   ]
  },
  {
   "cell_type": "markdown",
   "metadata": {},
   "source": [
    "* 케이민즈는 다차원에서 거리가 가까운 친구들을 말한다"
   ]
  },
  {
   "cell_type": "code",
   "execution_count": null,
   "metadata": {
    "scrolled": true
   },
   "outputs": [],
   "source": [
    "test2[res2==0]"
   ]
  },
  {
   "cell_type": "code",
   "execution_count": null,
   "metadata": {},
   "outputs": [],
   "source": [
    "# DBscan 밀도 기반, 반지름을 주고 그 안에 몇개가 들어오는지 주어줌 \n",
    "# 군집화 갯수는 안주고 반지름이랑 갯수만 준다"
   ]
  },
  {
   "cell_type": "code",
   "execution_count": null,
   "metadata": {},
   "outputs": [],
   "source": [
    "# method / kmeans 더 효율적으로 쓰는 것 \n",
    "# def elbow(X,n,seed=1192):\n",
    "#     sse = []\n",
    "#     for i in range(1,n+1):\n",
    "#         print(\"\\r\",i,\"/\",n,end='') # r: rewrite, end: 줄 바뀜 없애기\n",
    "#         km = KMeans(n_clusters=i,init='k-means++',random_state=seed)\n",
    "#         km.fit(X)\n",
    "#         sse.append(km.inertia_)\n",
    "#     plt.figure(figsize=(20,10))\n",
    "#     plt.plot(range(1,n+1),sse,marker='o')\n",
    "#     plt.ylabel(\"SSE\")\n",
    "#     plt.show()"
   ]
  },
  {
   "cell_type": "code",
   "execution_count": null,
   "metadata": {},
   "outputs": [],
   "source": [
    "# elbow(test, 10, seed=seed)"
   ]
  },
  {
   "cell_type": "code",
   "execution_count": null,
   "metadata": {},
   "outputs": [],
   "source": [
    "# 반지름, 거기 들어가야하는 갯수, \n",
    "db= DBSCAN (eps=1, min_samples=5, n_jobs=-1)"
   ]
  },
  {
   "cell_type": "code",
   "execution_count": null,
   "metadata": {},
   "outputs": [],
   "source": [
    "res_db= db.fit_predict(test)"
   ]
  },
  {
   "cell_type": "code",
   "execution_count": null,
   "metadata": {},
   "outputs": [],
   "source": [
    "pd.Series(res_db).value_counts()"
   ]
  },
  {
   "cell_type": "code",
   "execution_count": null,
   "metadata": {},
   "outputs": [],
   "source": [
    "test[res_db!=1]"
   ]
  },
  {
   "cell_type": "code",
   "execution_count": null,
   "metadata": {},
   "outputs": [],
   "source": [
    "db= DBSCAN (eps=1, min_samples=5, n_jobs=-1)\n",
    "res_db= db.fit_predict(test)\n",
    "pd.Series(res_db).value_counts()\n",
    "test[res_db!=1]"
   ]
  },
  {
   "cell_type": "code",
   "execution_count": null,
   "metadata": {},
   "outputs": [],
   "source": []
  },
  {
   "cell_type": "code",
   "execution_count": null,
   "metadata": {},
   "outputs": [],
   "source": []
  },
  {
   "cell_type": "code",
   "execution_count": null,
   "metadata": {},
   "outputs": [],
   "source": []
  },
  {
   "cell_type": "code",
   "execution_count": null,
   "metadata": {},
   "outputs": [],
   "source": []
  }
 ],
 "metadata": {
  "kernelspec": {
   "display_name": "Python 3",
   "language": "python",
   "name": "python3"
  },
  "language_info": {
   "codemirror_mode": {
    "name": "ipython",
    "version": 3
   },
   "file_extension": ".py",
   "mimetype": "text/x-python",
   "name": "python",
   "nbconvert_exporter": "python",
   "pygments_lexer": "ipython3",
   "version": "3.7.6"
  }
 },
 "nbformat": 4,
 "nbformat_minor": 4
}
