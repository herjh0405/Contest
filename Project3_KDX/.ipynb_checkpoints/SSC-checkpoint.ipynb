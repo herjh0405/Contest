{
 "cells": [
  {
   "cell_type": "markdown",
   "metadata": {},
   "source": [
    "# 데이터 전처리 환경 조성"
   ]
  },
  {
   "cell_type": "code",
   "execution_count": 170,
   "metadata": {},
   "outputs": [],
   "source": [
    "import warnings\n",
    "warnings.filterwarnings(action='ignore')\n",
    "import pandas as pd\n",
    "import numpy as np\n",
    "import os\n",
    "import matplotlib.pyplot as plt\n",
    "import collections\n",
    "import datetime as dt\n",
    "import datetime\n",
    "import time\n",
    "from sklearn.linear_model import LinearRegression\n",
    "from sklearn.preprocessing import MinMaxScaler\n",
    "\n",
    "from matplotlib import font_manager, rc\n",
    "from matplotlib import style\n",
    "style.use('ggplot')\n",
    "%matplotlib inline\n",
    "\n",
    "font_name = font_manager.FontProperties(fname=\"c:/Windows/Fonts/malgun.ttf\").get_name()\n",
    "rc('font', family=font_name)\n",
    "\n",
    "from IPython.display import set_matplotlib_formats\n",
    "set_matplotlib_formats(\"retina\")\n",
    "\n",
    "pd.set_option('display.max_rows', 220)\n",
    "pd.set_option('display.max_columns', 20)"
   ]
  },
  {
   "cell_type": "markdown",
   "metadata": {},
   "source": [
    "## 데이터 불러오기"
   ]
  },
  {
   "cell_type": "code",
   "execution_count": 171,
   "metadata": {},
   "outputs": [],
   "source": [
    "ssc=pd.read_csv(\"./Mcorporation/KDX시각화경진대회_SSC_DATA.csv\", encoding='cp949')"
   ]
  },
  {
   "cell_type": "code",
   "execution_count": 172,
   "metadata": {},
   "outputs": [],
   "source": [
    "spend_list=ssc['소비업종'].unique().tolist()\n",
    "age_list=ssc['연령대'].unique().tolist()"
   ]
  },
  {
   "cell_type": "markdown",
   "metadata": {},
   "source": [
    "* spend_plot('가전/가구','20대','남성')"
   ]
  },
  {
   "cell_type": "code",
   "execution_count": 173,
   "metadata": {},
   "outputs": [],
   "source": [
    "def spend_plot_per_sex(kind, age, sex):\n",
    "    ssc_case=ssc[(ssc['소비업종']==kind)&(ssc['연령대']==age)&(ssc['성별']==sex)].reset_index()\n",
    "    date=ssc_case['소비일자']\n",
    "    number_case=ssc_case['소비건수']\n",
    "    plot_df=pd.DataFrame(number_case)\n",
    "    plot_df.index = date.apply(lambda x: datetime.datetime(int(str(x)[:4]),int(str(x)[4:6]),int(str(x)[6:])))\n",
    "\n",
    "    plt.figure(figsize=(20,10))\n",
    "    plot_df['소비건수'].plot()\n",
    "    plt.title(kind+'-'+age+'/'+sex)\n",
    "    plt.show()"
   ]
  },
  {
   "cell_type": "code",
   "execution_count": 174,
   "metadata": {
    "scrolled": false
   },
   "outputs": [],
   "source": [
    "# for i in age_list:\n",
    "#     spend_plot_per_sex('여행/교통',i,'남성')"
   ]
  },
  {
   "cell_type": "code",
   "execution_count": 175,
   "metadata": {},
   "outputs": [],
   "source": [
    "ssc_group=ssc.groupby(['소비일자','소비업종','연령대']).sum().reset_index()"
   ]
  },
  {
   "cell_type": "markdown",
   "metadata": {},
   "source": [
    "* spend_plot('가전/가구', '20대')"
   ]
  },
  {
   "cell_type": "code",
   "execution_count": 176,
   "metadata": {},
   "outputs": [],
   "source": [
    "def spend_plot(kind, age):\n",
    "    ssc_case=ssc_group[(ssc_group['소비업종']==kind)&(ssc_group['연령대']==age)].reset_index()\n",
    "    date=ssc_case['소비일자']\n",
    "    number_case=ssc_case['소비건수']\n",
    "    plot_df=pd.DataFrame(number_case)\n",
    "    plot_df.index = date.apply(lambda x: datetime.datetime(int(str(x)[:4]),int(str(x)[4:6]),int(str(x)[6:])))\n",
    "\n",
    "    plt.figure(figsize=(20,10))\n",
    "    plot_df['소비건수'].plot()\n",
    "    plt.title(kind+'-'+age)\n",
    "    plt.show()"
   ]
  },
  {
   "cell_type": "code",
   "execution_count": 177,
   "metadata": {},
   "outputs": [],
   "source": [
    "month_list=ssc['소비일자'].apply(lambda x: int(str(x)[:6])).unique().tolist()"
   ]
  },
  {
   "cell_type": "code",
   "execution_count": 178,
   "metadata": {},
   "outputs": [],
   "source": [
    "def spend_plot(kind, age):\n",
    "    global ssc_group\n",
    "    ssc_group=ssc_group.copy()\n",
    "    ssc_group['소비일자']=ssc_group['소비일자'].apply(lambda x: int(str(x)[:6]))\n",
    "    ssc_case=ssc_group[(ssc_group['소비업종']==kind)&(ssc_group['연령대']==age)].reset_index().copy()\n",
    "    ssc_case=ssc_case.groupby(['소비일자','소비업종','연령대']).sum().reset_index().copy()\n",
    "\n",
    "    date=ssc_case['소비일자']\n",
    "    number_case=ssc_case['소비건수']\n",
    "    plot_df=pd.DataFrame(number_case)\n",
    "    plot_df.index = date.apply(lambda x: str(x))\n",
    "\n",
    "    plt.figure(figsize=(20,10))\n",
    "    plot_df['소비건수'].plot()\n",
    "    plt.title(kind+'-'+age)\n",
    "    plt.show()"
   ]
  },
  {
   "cell_type": "code",
   "execution_count": 179,
   "metadata": {
    "scrolled": false
   },
   "outputs": [],
   "source": [
    "# for i in spend_list:\n",
    "#     print(i)\n",
    "#     spend_plot(i, '20대')"
   ]
  },
  {
   "cell_type": "code",
   "execution_count": 180,
   "metadata": {},
   "outputs": [],
   "source": [
    "def score_normalize(lst):\n",
    "    normalized=[]\n",
    "    scaler = MinMaxScaler()\n",
    "    normalized=scaler.fit_transform(lst)\n",
    "    \n",
    "    return normalized"
   ]
  },
  {
   "cell_type": "code",
   "execution_count": 210,
   "metadata": {},
   "outputs": [
    {
     "data": {
      "text/html": [
       "<div>\n",
       "<style scoped>\n",
       "    .dataframe tbody tr th:only-of-type {\n",
       "        vertical-align: middle;\n",
       "    }\n",
       "\n",
       "    .dataframe tbody tr th {\n",
       "        vertical-align: top;\n",
       "    }\n",
       "\n",
       "    .dataframe thead th {\n",
       "        text-align: right;\n",
       "    }\n",
       "</style>\n",
       "<table border=\"1\" class=\"dataframe\">\n",
       "  <thead>\n",
       "    <tr style=\"text-align: right;\">\n",
       "      <th></th>\n",
       "      <th>소비일자</th>\n",
       "      <th>소비업종</th>\n",
       "      <th>연령대</th>\n",
       "      <th>소비건수</th>\n",
       "    </tr>\n",
       "  </thead>\n",
       "  <tbody>\n",
       "    <tr>\n",
       "      <th>0</th>\n",
       "      <td>201901</td>\n",
       "      <td>가전/가구</td>\n",
       "      <td>20대</td>\n",
       "      <td>11466</td>\n",
       "    </tr>\n",
       "    <tr>\n",
       "      <th>1</th>\n",
       "      <td>201901</td>\n",
       "      <td>가전/가구</td>\n",
       "      <td>30대</td>\n",
       "      <td>30431</td>\n",
       "    </tr>\n",
       "    <tr>\n",
       "      <th>2</th>\n",
       "      <td>201901</td>\n",
       "      <td>가전/가구</td>\n",
       "      <td>40대</td>\n",
       "      <td>39734</td>\n",
       "    </tr>\n",
       "    <tr>\n",
       "      <th>3</th>\n",
       "      <td>201901</td>\n",
       "      <td>가전/가구</td>\n",
       "      <td>50대</td>\n",
       "      <td>29826</td>\n",
       "    </tr>\n",
       "    <tr>\n",
       "      <th>4</th>\n",
       "      <td>201901</td>\n",
       "      <td>가전/가구</td>\n",
       "      <td>60대</td>\n",
       "      <td>12681</td>\n",
       "    </tr>\n",
       "    <tr>\n",
       "      <th>...</th>\n",
       "      <td>...</td>\n",
       "      <td>...</td>\n",
       "      <td>...</td>\n",
       "      <td>...</td>\n",
       "    </tr>\n",
       "    <tr>\n",
       "      <th>38285</th>\n",
       "      <td>202006</td>\n",
       "      <td>할인점/마트</td>\n",
       "      <td>20대</td>\n",
       "      <td>270248</td>\n",
       "    </tr>\n",
       "    <tr>\n",
       "      <th>38286</th>\n",
       "      <td>202006</td>\n",
       "      <td>할인점/마트</td>\n",
       "      <td>30대</td>\n",
       "      <td>814766</td>\n",
       "    </tr>\n",
       "    <tr>\n",
       "      <th>38287</th>\n",
       "      <td>202006</td>\n",
       "      <td>할인점/마트</td>\n",
       "      <td>40대</td>\n",
       "      <td>1240921</td>\n",
       "    </tr>\n",
       "    <tr>\n",
       "      <th>38288</th>\n",
       "      <td>202006</td>\n",
       "      <td>할인점/마트</td>\n",
       "      <td>50대</td>\n",
       "      <td>1054232</td>\n",
       "    </tr>\n",
       "    <tr>\n",
       "      <th>38289</th>\n",
       "      <td>202006</td>\n",
       "      <td>할인점/마트</td>\n",
       "      <td>60대</td>\n",
       "      <td>653066</td>\n",
       "    </tr>\n",
       "  </tbody>\n",
       "</table>\n",
       "<p>38290 rows × 4 columns</p>\n",
       "</div>"
      ],
      "text/plain": [
       "         소비일자    소비업종  연령대     소비건수\n",
       "0      201901   가전/가구  20대    11466\n",
       "1      201901   가전/가구  30대    30431\n",
       "2      201901   가전/가구  40대    39734\n",
       "3      201901   가전/가구  50대    29826\n",
       "4      201901   가전/가구  60대    12681\n",
       "...       ...     ...  ...      ...\n",
       "38285  202006  할인점/마트  20대   270248\n",
       "38286  202006  할인점/마트  30대   814766\n",
       "38287  202006  할인점/마트  40대  1240921\n",
       "38288  202006  할인점/마트  50대  1054232\n",
       "38289  202006  할인점/마트  60대   653066\n",
       "\n",
       "[38290 rows x 4 columns]"
      ]
     },
     "execution_count": 210,
     "metadata": {},
     "output_type": "execute_result"
    }
   ],
   "source": [
    "ssc_group['연령대']"
   ]
  },
  {
   "cell_type": "code",
   "execution_count": 244,
   "metadata": {},
   "outputs": [
    {
     "data": {
      "text/plain": [
       "{'20대': ['가정생활/서비스', '교육/학원'],\n",
       " '30대': ['편의점', '가전/가구'],\n",
       " '40대': ['가정생활/서비스', '가전/가구'],\n",
       " '50대': ['자동차', '가전/가구'],\n",
       " '60대': ['스포츠/문화/레저', '교육/학원']}"
      ]
     },
     "execution_count": 244,
     "metadata": {},
     "output_type": "execute_result"
    }
   ],
   "source": [
    "total_eff=[]\n",
    "for j in age_list:\n",
    "    want_var=[]\n",
    "    for i in spend_list:\n",
    "        ssc_group=ssc_group.copy()\n",
    "        ssc_group['소비일자']=ssc_group['소비일자'].apply(lambda x: int(str(x)[:6]))\n",
    "        ssc_case=ssc_group[(ssc_group['소비업종']==i)&(ssc_group['연령대']==j)].reset_index().copy()\n",
    "        ssc_case=ssc_case.groupby(['소비일자','소비업종','연령대']).sum().reset_index().copy()\n",
    "\n",
    "        date=ssc_case['소비일자']\n",
    "        number_case=ssc_case['소비건수']\n",
    "        want_var.append(number_case[4:17].tolist())\n",
    "\n",
    "    l=[]\n",
    "    for i in range(13):\n",
    "        l.append(pd.DataFrame(want_var).loc[i].tolist())\n",
    "\n",
    "    l2=[]\n",
    "    for i in range(len(l)):\n",
    "        l2.append(np.var(score_normalize(pd.DataFrame(l[i])).tolist()))\n",
    "\n",
    "    eff=[]\n",
    "    max_l2=0\n",
    "    min_l2=0\n",
    "    for i in range(len(l2)):\n",
    "        if l2[i]==max(l2):\n",
    "            max_l2=i\n",
    "        elif l2[i]==min(l2):\n",
    "            min_l2=i\n",
    "    eff.append(max_l2)\n",
    "    eff.append(min_l2)\n",
    "    total_eff.append(eff)\n",
    "    \n",
    "total_eff\n",
    "va={'20대' : total_eff[0], '30대': total_eff[1], '40대': total_eff[2], '50대': total_eff[3] ,'60대': total_eff[4]}\n",
    "\n",
    "for k, v in va.items():\n",
    "    v = list(map(lambda i : spend_list[i], v))\n",
    "    va[k] = v\n",
    "va"
   ]
  },
  {
   "cell_type": "code",
   "execution_count": 240,
   "metadata": {},
   "outputs": [
    {
     "data": {
      "text/plain": [
       "18"
      ]
     },
     "execution_count": 240,
     "metadata": {},
     "output_type": "execute_result"
    }
   ],
   "source": [
    "len(month_list)"
   ]
  },
  {
   "cell_type": "code",
   "execution_count": 242,
   "metadata": {},
   "outputs": [
    {
     "data": {
      "text/plain": [
       "[201901,\n",
       " 201902,\n",
       " 201903,\n",
       " 201904,\n",
       " 201905,\n",
       " 201906,\n",
       " 201907,\n",
       " 201908,\n",
       " 201909,\n",
       " 201910,\n",
       " 201911,\n",
       " 201912,\n",
       " 202001,\n",
       " 202002,\n",
       " 202003,\n",
       " 202004,\n",
       " 202005,\n",
       " 202006]"
      ]
     },
     "execution_count": 242,
     "metadata": {},
     "output_type": "execute_result"
    }
   ],
   "source": [
    "month_list"
   ]
  },
  {
   "cell_type": "code",
   "execution_count": null,
   "metadata": {},
   "outputs": [],
   "source": []
  }
 ],
 "metadata": {
  "kernelspec": {
   "display_name": "Python 3",
   "language": "python",
   "name": "python3"
  },
  "language_info": {
   "codemirror_mode": {
    "name": "ipython",
    "version": 3
   },
   "file_extension": ".py",
   "mimetype": "text/x-python",
   "name": "python",
   "nbconvert_exporter": "python",
   "pygments_lexer": "ipython3",
   "version": "3.7.6"
  }
 },
 "nbformat": 4,
 "nbformat_minor": 4
}
