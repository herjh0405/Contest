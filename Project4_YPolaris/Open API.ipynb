{
 "cells": [
  {
   "cell_type": "code",
   "execution_count": 116,
   "metadata": {
    "scrolled": true
   },
   "outputs": [
    {
     "name": "stdout",
     "output_type": "stream",
     "text": [
      "Your Request:\n",
      "http://apis.data.go.kr/B553077/api/open/sdsc/storeListInUpjong?divId=indsMclsCd&key=D03&ServiceKey=9qhUwKCc9ASN8d7C8HnGWLyQOr1P4rkXKxsYwShxM6PLhVSnNwqlkZQsY/k+x4Rixmyznbm65TySlJtMbVi3KA==&divId=ctprvnCd&key=26\n",
      "\n",
      "Result:\n",
      "b'<OpenAPI_ServiceResponse>\\n\\t<cmmMsgHeader>\\n\\t\\t<errMsg>SERVICE ERROR</errMsg>\\n\\t\\t<returnAuthMsg>SERVICE_KEY_IS_NOT_REGISTERED_ERROR</returnAuthMsg>\\n\\t\\t<returnReasonCode>30</returnReasonCode>\\n\\t</cmmMsgHeader>\\n</OpenAPI_ServiceResponse>'\n",
      "\n",
      "DataType of Result Data:\n",
      "<class 'bytes'>\n"
     ]
    }
   ],
   "source": [
    "#!/app/python/bin/python\n",
    "\n",
    "# openapi_Jaywalking.py\n",
    "\n",
    "from urllib.request import urlopen\n",
    "from urllib.parse import urlencode,unquote,quote_plus\n",
    "import urllib\n",
    "\n",
    "url ='http://apis.data.go.kr/B553077/api/open/sdsc/storeListInUpjong?divId=indsMclsCd&key=D03&ServiceKey=9qhUwKCc9ASN8d7C8HnGWLyQOr1P4rkXKxsYwShxM6PLhVSnNwqlkZQsY/k+x4Rixmyznbm65TySlJtMbVi3KA=='\n",
    "# queryParams = '&' + urlencode({\n",
    "#     quote_plus('divId') : 'ctprvnCd',\n",
    "#     quote_plus('key') : '26',\n",
    "#     quote_plus('indsMclsCd') : 'D03'\n",
    "#     quote_plus('numOfRows') : '1000',\n",
    "#     quote_plus('type') : 'xml',\n",
    "#     quote_plus('bizesId') : '22143908',\n",
    "#     quote_plus('bizesNm') : '코리아세븐하단제휴점',\n",
    "#     quote_plus('indsLclsCd') : 'D',\n",
    "#     quote_plus('indsLclsNm') : '소매',\n",
    "#     quote_plus('indsMclsCd') : 'D03',\n",
    "#     quote_plus('indsMclsNm') : 'D03A01',\n",
    "#     quote_plus('indsSclsNm') : '편의점',\n",
    "#     quote_plus('adongNm') : '하단2동'\n",
    "#     quote_plus('indsSclsNm') : '편의점'\n",
    "#     quote_plus('indsSclsNm') : '편의점'\n",
    "#     quote_plus('indsSclsNm') : '편의점'\n",
    "# })\n",
    "\n",
    "request = urllib.request.Request(url+unquote(queryParams))\n",
    "print ('Your Request:\\n'+url+queryParams)\n",
    "request.get_method = lambda: 'GET'\n",
    "response_body = urlopen(request).read()\n",
    "\n",
    "print (\"\\nResult:\")\n",
    "print (response_body)\n",
    "print (\"\\nDataType of Result Data:\")\n",
    "print (type(response_body))"
   ]
  },
  {
   "cell_type": "code",
   "execution_count": null,
   "metadata": {},
   "outputs": [],
   "source": []
  }
 ],
 "metadata": {
  "kernelspec": {
   "display_name": "Python 3",
   "language": "python",
   "name": "python3"
  },
  "language_info": {
   "codemirror_mode": {
    "name": "ipython",
    "version": 3
   },
   "file_extension": ".py",
   "mimetype": "text/x-python",
   "name": "python",
   "nbconvert_exporter": "python",
   "pygments_lexer": "ipython3",
   "version": "3.7.6"
  }
 },
 "nbformat": 4,
 "nbformat_minor": 4
}
