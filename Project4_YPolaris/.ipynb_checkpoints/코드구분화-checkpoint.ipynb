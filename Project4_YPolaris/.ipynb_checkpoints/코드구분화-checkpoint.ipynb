{
 "cells": [
  {
   "cell_type": "code",
   "execution_count": 81,
   "metadata": {},
   "outputs": [],
   "source": [
    "import warnings\n",
    "warnings.filterwarnings(action='ignore')\n",
    "import pandas as pd\n",
    "import numpy as np\n",
    "import os\n",
    "import matplotlib.pyplot as plt\n",
    "import collections\n",
    "import datetime\n",
    "import time\n",
    "\n",
    "\n",
    "from matplotlib import font_manager, rc\n",
    "from matplotlib import style\n",
    "style.use('ggplot')\n",
    "%matplotlib inline\n",
    "\n",
    "font_name = font_manager.FontProperties(fname=\"c:/Windows/Fonts/malgun.ttf\").get_name()\n",
    "rc('font', family=font_name)\n",
    "\n",
    "from IPython.display import set_matplotlib_formats\n",
    "set_matplotlib_formats(\"retina\")\n",
    "\n",
    "pd.set_option('display.max_rows', 220)\n",
    "pd.set_option('display.max_columns', 10)"
   ]
  },
  {
   "cell_type": "code",
   "execution_count": 82,
   "metadata": {},
   "outputs": [],
   "source": [
    "data_busan=pd.read_csv('./data/소상공인시장진흥공단_상가(상권)정보_부산_20200630.csv', encoding=\"cp949\",error_bad_lines=False)"
   ]
  },
  {
   "cell_type": "code",
   "execution_count": 83,
   "metadata": {},
   "outputs": [],
   "source": [
    "want_data_busan=data_busan[(data_busan['상권업종대분류코드']=='D')&(data_busan['상권업종중분류명']=='종합소매점')]\n",
    "df1_1=want_data_busan[want_data_busan['상권업종소분류명']=='수퍼마켓']\n",
    "df2_1=want_data_busan[want_data_busan['상권업종소분류명']=='편의점']\n",
    "df3_1=want_data_busan[want_data_busan['상권업종소분류명']=='종합소매']\n",
    "df4_1=want_data_busan[want_data_busan['상권업종소분류명']=='할인점']\n",
    "want_data_busan=pd.concat([df1_1, df2_1, df3_1, df4_1], axis=0)\n",
    "want_data_busan=want_data_busan.reset_index()\n",
    "want_data_busan['구분코드']=0"
   ]
  },
  {
   "cell_type": "code",
   "execution_count": 84,
   "metadata": {},
   "outputs": [],
   "source": [
    "for i in range(len(want_data_busan['상호명'])):\n",
    "    if (pd.isnull(want_data_busan['지점명'][i])):\n",
    "        want_data_busan['지점명'][i]='없음'"
   ]
  },
  {
   "cell_type": "code",
   "execution_count": 85,
   "metadata": {},
   "outputs": [
    {
     "data": {
      "text/html": [
       "<div>\n",
       "<style scoped>\n",
       "    .dataframe tbody tr th:only-of-type {\n",
       "        vertical-align: middle;\n",
       "    }\n",
       "\n",
       "    .dataframe tbody tr th {\n",
       "        vertical-align: top;\n",
       "    }\n",
       "\n",
       "    .dataframe thead th {\n",
       "        text-align: right;\n",
       "    }\n",
       "</style>\n",
       "<table border=\"1\" class=\"dataframe\">\n",
       "  <thead>\n",
       "    <tr style=\"text-align: right;\">\n",
       "      <th></th>\n",
       "      <th>index</th>\n",
       "      <th>상가업소번호</th>\n",
       "      <th>상호명</th>\n",
       "      <th>지점명</th>\n",
       "      <th>상권업종대분류코드</th>\n",
       "      <th>...</th>\n",
       "      <th>층정보</th>\n",
       "      <th>호정보</th>\n",
       "      <th>경도</th>\n",
       "      <th>위도</th>\n",
       "      <th>구분코드</th>\n",
       "    </tr>\n",
       "  </thead>\n",
       "  <tbody>\n",
       "    <tr>\n",
       "      <th>0</th>\n",
       "      <td>91</td>\n",
       "      <td>22186288</td>\n",
       "      <td>롯데캐슬리버</td>\n",
       "      <td>없음</td>\n",
       "      <td>D</td>\n",
       "      <td>...</td>\n",
       "      <td>1.0</td>\n",
       "      <td>NaN</td>\n",
       "      <td>128.974521</td>\n",
       "      <td>35.127894</td>\n",
       "      <td>0</td>\n",
       "    </tr>\n",
       "    <tr>\n",
       "      <th>1</th>\n",
       "      <td>185</td>\n",
       "      <td>22112565</td>\n",
       "      <td>삼일슈퍼</td>\n",
       "      <td>없음</td>\n",
       "      <td>D</td>\n",
       "      <td>...</td>\n",
       "      <td>1.0</td>\n",
       "      <td>NaN</td>\n",
       "      <td>128.958714</td>\n",
       "      <td>35.103845</td>\n",
       "      <td>0</td>\n",
       "    </tr>\n",
       "    <tr>\n",
       "      <th>2</th>\n",
       "      <td>243</td>\n",
       "      <td>24793955</td>\n",
       "      <td>삼한할인슈퍼</td>\n",
       "      <td>없음</td>\n",
       "      <td>D</td>\n",
       "      <td>...</td>\n",
       "      <td>1.0</td>\n",
       "      <td>NaN</td>\n",
       "      <td>129.018781</td>\n",
       "      <td>35.235175</td>\n",
       "      <td>0</td>\n",
       "    </tr>\n",
       "    <tr>\n",
       "      <th>3</th>\n",
       "      <td>483</td>\n",
       "      <td>20045800</td>\n",
       "      <td>희망상회앞</td>\n",
       "      <td>없음</td>\n",
       "      <td>D</td>\n",
       "      <td>...</td>\n",
       "      <td>NaN</td>\n",
       "      <td>NaN</td>\n",
       "      <td>129.082161</td>\n",
       "      <td>35.184688</td>\n",
       "      <td>0</td>\n",
       "    </tr>\n",
       "    <tr>\n",
       "      <th>4</th>\n",
       "      <td>496</td>\n",
       "      <td>20043942</td>\n",
       "      <td>알짜마트</td>\n",
       "      <td>없음</td>\n",
       "      <td>D</td>\n",
       "      <td>...</td>\n",
       "      <td>NaN</td>\n",
       "      <td>NaN</td>\n",
       "      <td>129.036446</td>\n",
       "      <td>35.124388</td>\n",
       "      <td>0</td>\n",
       "    </tr>\n",
       "    <tr>\n",
       "      <th>...</th>\n",
       "      <td>...</td>\n",
       "      <td>...</td>\n",
       "      <td>...</td>\n",
       "      <td>...</td>\n",
       "      <td>...</td>\n",
       "      <td>...</td>\n",
       "      <td>...</td>\n",
       "      <td>...</td>\n",
       "      <td>...</td>\n",
       "      <td>...</td>\n",
       "      <td>...</td>\n",
       "    </tr>\n",
       "    <tr>\n",
       "      <th>6987</th>\n",
       "      <td>152254</td>\n",
       "      <td>16435590</td>\n",
       "      <td>이마트24</td>\n",
       "      <td>없음</td>\n",
       "      <td>D</td>\n",
       "      <td>...</td>\n",
       "      <td>NaN</td>\n",
       "      <td>NaN</td>\n",
       "      <td>129.107067</td>\n",
       "      <td>35.138051</td>\n",
       "      <td>0</td>\n",
       "    </tr>\n",
       "    <tr>\n",
       "      <th>6988</th>\n",
       "      <td>152357</td>\n",
       "      <td>16431720</td>\n",
       "      <td>이마트</td>\n",
       "      <td>24구서SK뷰점</td>\n",
       "      <td>D</td>\n",
       "      <td>...</td>\n",
       "      <td>NaN</td>\n",
       "      <td>NaN</td>\n",
       "      <td>129.086777</td>\n",
       "      <td>35.244354</td>\n",
       "      <td>0</td>\n",
       "    </tr>\n",
       "    <tr>\n",
       "      <th>6989</th>\n",
       "      <td>152559</td>\n",
       "      <td>16468637</td>\n",
       "      <td>이마트</td>\n",
       "      <td>블루웨</td>\n",
       "      <td>D</td>\n",
       "      <td>...</td>\n",
       "      <td>NaN</td>\n",
       "      <td>703.0</td>\n",
       "      <td>129.061385</td>\n",
       "      <td>35.196284</td>\n",
       "      <td>0</td>\n",
       "    </tr>\n",
       "    <tr>\n",
       "      <th>6990</th>\n",
       "      <td>153962</td>\n",
       "      <td>16546543</td>\n",
       "      <td>이마트</td>\n",
       "      <td>24일광해수욕장점</td>\n",
       "      <td>D</td>\n",
       "      <td>...</td>\n",
       "      <td>1.0</td>\n",
       "      <td>NaN</td>\n",
       "      <td>129.232648</td>\n",
       "      <td>35.261957</td>\n",
       "      <td>0</td>\n",
       "    </tr>\n",
       "    <tr>\n",
       "      <th>6991</th>\n",
       "      <td>154137</td>\n",
       "      <td>16484650</td>\n",
       "      <td>이마트</td>\n",
       "      <td>24R부산지사점</td>\n",
       "      <td>D</td>\n",
       "      <td>...</td>\n",
       "      <td>NaN</td>\n",
       "      <td>106.0</td>\n",
       "      <td>128.839012</td>\n",
       "      <td>35.150912</td>\n",
       "      <td>0</td>\n",
       "    </tr>\n",
       "  </tbody>\n",
       "</table>\n",
       "<p>6992 rows × 41 columns</p>\n",
       "</div>"
      ],
      "text/plain": [
       "       index    상가업소번호     상호명        지점명 상권업종대분류코드  ...  층정보    호정보  \\\n",
       "0         91  22186288  롯데캐슬리버         없음         D  ...  1.0    NaN   \n",
       "1        185  22112565    삼일슈퍼         없음         D  ...  1.0    NaN   \n",
       "2        243  24793955  삼한할인슈퍼         없음         D  ...  1.0    NaN   \n",
       "3        483  20045800   희망상회앞         없음         D  ...  NaN    NaN   \n",
       "4        496  20043942    알짜마트         없음         D  ...  NaN    NaN   \n",
       "...      ...       ...     ...        ...       ...  ...  ...    ...   \n",
       "6987  152254  16435590   이마트24         없음         D  ...  NaN    NaN   \n",
       "6988  152357  16431720     이마트   24구서SK뷰점         D  ...  NaN    NaN   \n",
       "6989  152559  16468637     이마트        블루웨         D  ...  NaN  703.0   \n",
       "6990  153962  16546543     이마트  24일광해수욕장점         D  ...  1.0    NaN   \n",
       "6991  154137  16484650     이마트   24R부산지사점         D  ...  NaN  106.0   \n",
       "\n",
       "              경도         위도 구분코드  \n",
       "0     128.974521  35.127894    0  \n",
       "1     128.958714  35.103845    0  \n",
       "2     129.018781  35.235175    0  \n",
       "3     129.082161  35.184688    0  \n",
       "4     129.036446  35.124388    0  \n",
       "...          ...        ...  ...  \n",
       "6987  129.107067  35.138051    0  \n",
       "6988  129.086777  35.244354    0  \n",
       "6989  129.061385  35.196284    0  \n",
       "6990  129.232648  35.261957    0  \n",
       "6991  128.839012  35.150912    0  \n",
       "\n",
       "[6992 rows x 41 columns]"
      ]
     },
     "execution_count": 85,
     "metadata": {},
     "output_type": "execute_result"
    }
   ],
   "source": [
    "want_data_busan"
   ]
  },
  {
   "cell_type": "code",
   "execution_count": 86,
   "metadata": {},
   "outputs": [],
   "source": [
    "for i in range(len(want_data_busan['상호명'])):\n",
    "    if (('GS25' in want_data_busan['상호명'][i]) or ('CU' in want_data_busan['상호명'][i]) \n",
    "        or ('세븐일레븐' in want_data_busan['상호명'][i]) or ('미니스톱' in want_data_busan['상호명'][i]) \n",
    "        or ('이마트24' in want_data_busan['상호명'][i]) or (str(24) in want_data_busan['지점명'][i])):\n",
    "        if (('INCUPS' not in want_data_busan['상호명'][i]) or ('CAFFEPASCUCCI' not in want_data_busan['상호명'][i]) or\n",
    "           ('보드게임카페CUBE' not in want_data_busan['상호명'][i]) or ('하프타임' not in want_data_busan['상호명'][i]) or\n",
    "           ('에프엠CUSTOM' not in want_data_busan['상호명'][i]) or ('GCUT' not in want_data_busan['상호명'][i])):\n",
    "            want_data_busan['구분코드'][i]='y1'"
   ]
  },
  {
   "cell_type": "code",
   "execution_count": 93,
   "metadata": {},
   "outputs": [
    {
     "name": "stdout",
     "output_type": "stream",
     "text": [
      "ho\n"
     ]
    }
   ],
   "source": [
    "if ('CU' in 'GCUT'):\n",
    "    print('ho')\n",
    "    if ('GCUT' not in 'GCUT'):\n",
    "        print('holy')"
   ]
  },
  {
   "cell_type": "code",
   "execution_count": 89,
   "metadata": {},
   "outputs": [
    {
     "data": {
      "text/html": [
       "<div>\n",
       "<style scoped>\n",
       "    .dataframe tbody tr th:only-of-type {\n",
       "        vertical-align: middle;\n",
       "    }\n",
       "\n",
       "    .dataframe tbody tr th {\n",
       "        vertical-align: top;\n",
       "    }\n",
       "\n",
       "    .dataframe thead th {\n",
       "        text-align: right;\n",
       "    }\n",
       "</style>\n",
       "<table border=\"1\" class=\"dataframe\">\n",
       "  <thead>\n",
       "    <tr style=\"text-align: right;\">\n",
       "      <th></th>\n",
       "      <th>index</th>\n",
       "      <th>상가업소번호</th>\n",
       "      <th>상호명</th>\n",
       "      <th>지점명</th>\n",
       "      <th>상권업종대분류코드</th>\n",
       "      <th>...</th>\n",
       "      <th>층정보</th>\n",
       "      <th>호정보</th>\n",
       "      <th>경도</th>\n",
       "      <th>위도</th>\n",
       "      <th>구분코드</th>\n",
       "    </tr>\n",
       "  </thead>\n",
       "  <tbody>\n",
       "    <tr>\n",
       "      <th>3807</th>\n",
       "      <td>99999</td>\n",
       "      <td>24195956</td>\n",
       "      <td>INCUPS</td>\n",
       "      <td>없음</td>\n",
       "      <td>D</td>\n",
       "      <td>...</td>\n",
       "      <td>NaN</td>\n",
       "      <td>NaN</td>\n",
       "      <td>129.063788</td>\n",
       "      <td>35.154889</td>\n",
       "      <td>y1</td>\n",
       "    </tr>\n",
       "  </tbody>\n",
       "</table>\n",
       "<p>1 rows × 41 columns</p>\n",
       "</div>"
      ],
      "text/plain": [
       "      index    상가업소번호     상호명 지점명 상권업종대분류코드  ... 층정보 호정보          경도  \\\n",
       "3807  99999  24195956  INCUPS  없음         D  ... NaN NaN  129.063788   \n",
       "\n",
       "             위도 구분코드  \n",
       "3807  35.154889   y1  \n",
       "\n",
       "[1 rows x 41 columns]"
      ]
     },
     "execution_count": 89,
     "metadata": {},
     "output_type": "execute_result"
    }
   ],
   "source": [
    "want_data_busan[want_data_busan['상호명']=='INCUPS']"
   ]
  },
  {
   "cell_type": "code",
   "execution_count": 10,
   "metadata": {},
   "outputs": [],
   "source": [
    "# for i in range(len(want_data_busan['상호명'])):\n",
    "#     if ('이마트' in want_data_busan['상호명'][i]) and (str(24) not in want_data_busan['상호명'][i]):\n",
    "#         if (str(24) not in want_data_busan['지점명'][i]):"
   ]
  },
  {
   "cell_type": "code",
   "execution_count": 11,
   "metadata": {},
   "outputs": [],
   "source": [
    "e_list=[107, 850, 1771, 2252, 5161, 5272, 5967, 6439, 6666, 6676, 6694, 6777, 6782, 6805, 6830, 6831, 6874, 6878, 6918, 6928, 6989]\n",
    "for i in e_list:\n",
    "    want_data_busan.loc[i]['구분코드']='y2'"
   ]
  },
  {
   "cell_type": "code",
   "execution_count": 12,
   "metadata": {
    "scrolled": true
   },
   "outputs": [],
   "source": [
    "for i in range(len(want_data_busan['상호명'])):\n",
    "    if (('롯데마트' in want_data_busan['상호명'][i]) or ('홈플러스' in want_data_busan['상호명'][i]) \n",
    "        or ('하나로마트' in want_data_busan['상호명'][i]) or ('메가마트' in want_data_busan['상호명'][i]) \n",
    "        or ('코스트코' in want_data_busan['상호명'][i]) or ('탑마트' in want_data_busan['상호명'][i])):\n",
    "        want_data_busan['구분코드'][i]='y2'"
   ]
  },
  {
   "cell_type": "code",
   "execution_count": 13,
   "metadata": {},
   "outputs": [],
   "source": [
    "for i in range(len(want_data_busan['상호명'])):\n",
    "    if (want_data_busan['구분코드'][i]==0):\n",
    "        want_data_busan['구분코드'][i]='y3'"
   ]
  },
  {
   "cell_type": "code",
   "execution_count": 14,
   "metadata": {},
   "outputs": [],
   "source": [
    "seper_index=[]\n",
    "seper_code=[]\n",
    "for i in range(len(want_data_busan['구분코드'])):\n",
    "    seper_index.append(want_data_busan.loc[i]['index'])\n",
    "    seper_code.append(want_data_busan.loc[i]['구분코드'])"
   ]
  },
  {
   "cell_type": "code",
   "execution_count": 28,
   "metadata": {},
   "outputs": [],
   "source": [
    "data_busan['구분코드']=0"
   ]
  },
  {
   "cell_type": "code",
   "execution_count": 41,
   "metadata": {
    "scrolled": true
   },
   "outputs": [],
   "source": [
    "#loc[i].[구분코드]는 적용되지 않지만, [구분코드].loc[i]는 먹는 이유가 뭘까\n",
    "j=0\n",
    "for i in seper_index:\n",
    "    data_busan['구분코드'].loc[i]=seper_code[j]\n",
    "    j+=1"
   ]
  },
  {
   "cell_type": "code",
   "execution_count": 48,
   "metadata": {},
   "outputs": [],
   "source": [
    "data_busan.to_csv('상가정보_부산_코드구분.csv',encoding='euc-kr')"
   ]
  },
  {
   "cell_type": "code",
   "execution_count": null,
   "metadata": {},
   "outputs": [],
   "source": []
  }
 ],
 "metadata": {
  "kernelspec": {
   "display_name": "Python 3",
   "language": "python",
   "name": "python3"
  },
  "language_info": {
   "codemirror_mode": {
    "name": "ipython",
    "version": 3
   },
   "file_extension": ".py",
   "mimetype": "text/x-python",
   "name": "python",
   "nbconvert_exporter": "python",
   "pygments_lexer": "ipython3",
   "version": "3.7.6"
  }
 },
 "nbformat": 4,
 "nbformat_minor": 4
}
